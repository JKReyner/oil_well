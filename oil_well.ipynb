{
 "cells": [
  {
   "cell_type": "markdown",
   "metadata": {},
   "source": [
    "Hello, my name is Artem. I'm going to review your project!\n",
    "\n",
    "You can find my comments in <font color='green'>green</font>, <font color='blue'>blue</font> or <font color='red'>red</font> boxes like this:\n",
    "\n",
    "<div class=\"alert alert-block alert-success\">\n",
    "<b>Success:</b> if everything is done succesfully\n",
    "</div>\n",
    "\n",
    "<div class=\"alert alert-block alert-info\">\n",
    "<b>Improve: </b> \"Improve\" comments mean that there are tiny corrections that could help you to make your project better.\n",
    "</div>\n",
    "\n",
    "<div class=\"alert alert-block alert-danger\">\n",
    "<b>Needs fixing:</b> if the block requires some corrections. Work can't be accepted with the red comments.\n",
    "</div>\n",
    "\n",
    "### <font color='orange'>General feedback</font>\n",
    "* You've worked really hard and submitted a solid project.\n",
    "* Thank you for structuring the project. It's a pleasure to check such notebooks.\n",
    "* There are a couple of things that need to be done before your project is complete, but they're pretty straightforward.\n",
    "* While there's room for improvement, on the whole, your project is looking good.\n",
    "* I believe you can easily fix it! Good luck!"
   ]
  },
  {
   "cell_type": "markdown",
   "metadata": {},
   "source": [
    "**Comment:** Section 4 and onward has been redone with a different bootstrapping method. Please recheck."
   ]
  },
  {
   "cell_type": "markdown",
   "metadata": {},
   "source": [
    "### <font color='orange'>General feedback (review 2)</font>\n",
    "* New comments are marked with \"review 2\" keyword.\n",
    "\n",
    "### <font color='orange'>General feedback (review 3)</font>\n",
    "* Sorry but I don't see any changes.\n",
    "* You are free to ask some questions if needed."
   ]
  },
  {
   "cell_type": "markdown",
   "metadata": {},
   "source": [
    "**Comment:** There must have been some technical issue, there was an issue I had with JupyterHub last night as I was submitting. Since both the feedback and my changes got erased. Since Section 4 (calculating profits) is the section requiring feedback, that is the one where the changes are."
   ]
  },
  {
   "cell_type": "markdown",
   "metadata": {},
   "source": [
    "### <font color='orange'>General feedback (review 4)</font>\n",
    "* All your hard work has paid off, and now your project is perfect!\n",
    "* New comments are marked with \"review 4\" keyword.\n",
    "* Keep up the good work. Good luck next!"
   ]
  },
  {
   "cell_type": "markdown",
   "metadata": {},
   "source": [
    "## Oil Well Project\n",
    "\n",
    "The purpose of this project is to use machine learning to determine the best location to create a new oil well. We will pick the 200 most profitable points, and in order to determine profit we will take the following assumptions:\n",
    "\n",
    "* The budget for development of 200 oil wells is 100 million USD.\n",
    "\n",
    "* One barrel of raw materials brings 4.5 USD of revenue. One unit of product is defined as 1000 barrels. \n",
    "\n",
    "* Thus, the revenue from one unit of product is 4,500 dollars (volume of reserves is in thousand barrels)\n",
    "\n",
    "* We wish to keep only the regions with the risk of losses lower than 2.5%.\n",
    "\n",
    "* The only suitable model is known to be linear regression\n",
    "\n",
    "* All mentioned dollar amounts are in thousands of dollars"
   ]
  },
  {
   "cell_type": "markdown",
   "metadata": {},
   "source": [
    "## Initialization"
   ]
  },
  {
   "cell_type": "code",
   "execution_count": 1,
   "metadata": {},
   "outputs": [],
   "source": [
    "# load packages\n",
    "\n",
    "import pandas as pd\n",
    "import numpy as np\n",
    "from scipy import stats as st\n",
    "from statistics import mean\n",
    "\n",
    "# model creation\n",
    "\n",
    "from sklearn.model_selection import train_test_split, cross_val_score\n",
    "from sklearn.preprocessing import StandardScaler\n",
    "from sklearn.linear_model import LinearRegression\n",
    "\n",
    "# model checking\n",
    "\n",
    "from sklearn.metrics import mean_squared_error\n",
    "import matplotlib.pyplot as plt"
   ]
  },
  {
   "cell_type": "markdown",
   "metadata": {},
   "source": [
    "<div class=\"alert alert-block alert-success\">\n",
    "<b>Success:</b> Thank you for collecting all imports in the first cell!\n",
    "</div>"
   ]
  },
  {
   "cell_type": "code",
   "execution_count": 2,
   "metadata": {},
   "outputs": [],
   "source": [
    "# import data\n",
    "\n",
    "geo_data_0 = pd.read_csv('/datasets/geo_data_0.csv')\n",
    "geo_data_1 = pd.read_csv('/datasets/geo_data_1.csv')\n",
    "geo_data_2 = pd.read_csv('/datasets/geo_data_2.csv')"
   ]
  },
  {
   "cell_type": "markdown",
   "metadata": {},
   "source": [
    "After importing our data, we will take a quick look at what our data looks like."
   ]
  },
  {
   "cell_type": "code",
   "execution_count": 3,
   "metadata": {},
   "outputs": [
    {
     "data": {
      "text/html": [
       "<div>\n",
       "<style scoped>\n",
       "    .dataframe tbody tr th:only-of-type {\n",
       "        vertical-align: middle;\n",
       "    }\n",
       "\n",
       "    .dataframe tbody tr th {\n",
       "        vertical-align: top;\n",
       "    }\n",
       "\n",
       "    .dataframe thead th {\n",
       "        text-align: right;\n",
       "    }\n",
       "</style>\n",
       "<table border=\"1\" class=\"dataframe\">\n",
       "  <thead>\n",
       "    <tr style=\"text-align: right;\">\n",
       "      <th></th>\n",
       "      <th>id</th>\n",
       "      <th>f0</th>\n",
       "      <th>f1</th>\n",
       "      <th>f2</th>\n",
       "      <th>product</th>\n",
       "    </tr>\n",
       "  </thead>\n",
       "  <tbody>\n",
       "    <tr>\n",
       "      <th>0</th>\n",
       "      <td>txEyH</td>\n",
       "      <td>0.705745</td>\n",
       "      <td>-0.497823</td>\n",
       "      <td>1.221170</td>\n",
       "      <td>105.280062</td>\n",
       "    </tr>\n",
       "    <tr>\n",
       "      <th>1</th>\n",
       "      <td>2acmU</td>\n",
       "      <td>1.334711</td>\n",
       "      <td>-0.340164</td>\n",
       "      <td>4.365080</td>\n",
       "      <td>73.037750</td>\n",
       "    </tr>\n",
       "    <tr>\n",
       "      <th>2</th>\n",
       "      <td>409Wp</td>\n",
       "      <td>1.022732</td>\n",
       "      <td>0.151990</td>\n",
       "      <td>1.419926</td>\n",
       "      <td>85.265647</td>\n",
       "    </tr>\n",
       "    <tr>\n",
       "      <th>3</th>\n",
       "      <td>iJLyR</td>\n",
       "      <td>-0.032172</td>\n",
       "      <td>0.139033</td>\n",
       "      <td>2.978566</td>\n",
       "      <td>168.620776</td>\n",
       "    </tr>\n",
       "    <tr>\n",
       "      <th>4</th>\n",
       "      <td>Xdl7t</td>\n",
       "      <td>1.988431</td>\n",
       "      <td>0.155413</td>\n",
       "      <td>4.751769</td>\n",
       "      <td>154.036647</td>\n",
       "    </tr>\n",
       "    <tr>\n",
       "      <th>...</th>\n",
       "      <td>...</td>\n",
       "      <td>...</td>\n",
       "      <td>...</td>\n",
       "      <td>...</td>\n",
       "      <td>...</td>\n",
       "    </tr>\n",
       "    <tr>\n",
       "      <th>99995</th>\n",
       "      <td>DLsed</td>\n",
       "      <td>0.971957</td>\n",
       "      <td>0.370953</td>\n",
       "      <td>6.075346</td>\n",
       "      <td>110.744026</td>\n",
       "    </tr>\n",
       "    <tr>\n",
       "      <th>99996</th>\n",
       "      <td>QKivN</td>\n",
       "      <td>1.392429</td>\n",
       "      <td>-0.382606</td>\n",
       "      <td>1.273912</td>\n",
       "      <td>122.346843</td>\n",
       "    </tr>\n",
       "    <tr>\n",
       "      <th>99997</th>\n",
       "      <td>3rnvd</td>\n",
       "      <td>1.029585</td>\n",
       "      <td>0.018787</td>\n",
       "      <td>-1.348308</td>\n",
       "      <td>64.375443</td>\n",
       "    </tr>\n",
       "    <tr>\n",
       "      <th>99998</th>\n",
       "      <td>7kl59</td>\n",
       "      <td>0.998163</td>\n",
       "      <td>-0.528582</td>\n",
       "      <td>1.583869</td>\n",
       "      <td>74.040764</td>\n",
       "    </tr>\n",
       "    <tr>\n",
       "      <th>99999</th>\n",
       "      <td>1CWhH</td>\n",
       "      <td>1.764754</td>\n",
       "      <td>-0.266417</td>\n",
       "      <td>5.722849</td>\n",
       "      <td>149.633246</td>\n",
       "    </tr>\n",
       "  </tbody>\n",
       "</table>\n",
       "<p>100000 rows × 5 columns</p>\n",
       "</div>"
      ],
      "text/plain": [
       "          id        f0        f1        f2     product\n",
       "0      txEyH  0.705745 -0.497823  1.221170  105.280062\n",
       "1      2acmU  1.334711 -0.340164  4.365080   73.037750\n",
       "2      409Wp  1.022732  0.151990  1.419926   85.265647\n",
       "3      iJLyR -0.032172  0.139033  2.978566  168.620776\n",
       "4      Xdl7t  1.988431  0.155413  4.751769  154.036647\n",
       "...      ...       ...       ...       ...         ...\n",
       "99995  DLsed  0.971957  0.370953  6.075346  110.744026\n",
       "99996  QKivN  1.392429 -0.382606  1.273912  122.346843\n",
       "99997  3rnvd  1.029585  0.018787 -1.348308   64.375443\n",
       "99998  7kl59  0.998163 -0.528582  1.583869   74.040764\n",
       "99999  1CWhH  1.764754 -0.266417  5.722849  149.633246\n",
       "\n",
       "[100000 rows x 5 columns]"
      ]
     },
     "execution_count": 3,
     "metadata": {},
     "output_type": "execute_result"
    }
   ],
   "source": [
    "geo_data_0"
   ]
  },
  {
   "cell_type": "code",
   "execution_count": 4,
   "metadata": {},
   "outputs": [
    {
     "name": "stdout",
     "output_type": "stream",
     "text": [
      "<class 'pandas.core.frame.DataFrame'>\n",
      "RangeIndex: 100000 entries, 0 to 99999\n",
      "Data columns (total 5 columns):\n",
      " #   Column   Non-Null Count   Dtype  \n",
      "---  ------   --------------   -----  \n",
      " 0   id       100000 non-null  object \n",
      " 1   f0       100000 non-null  float64\n",
      " 2   f1       100000 non-null  float64\n",
      " 3   f2       100000 non-null  float64\n",
      " 4   product  100000 non-null  float64\n",
      "dtypes: float64(4), object(1)\n",
      "memory usage: 3.8+ MB\n"
     ]
    }
   ],
   "source": [
    "geo_data_0.info()"
   ]
  },
  {
   "cell_type": "code",
   "execution_count": 5,
   "metadata": {},
   "outputs": [
    {
     "name": "stdout",
     "output_type": "stream",
     "text": [
      "<class 'pandas.core.frame.DataFrame'>\n",
      "RangeIndex: 100000 entries, 0 to 99999\n",
      "Data columns (total 5 columns):\n",
      " #   Column   Non-Null Count   Dtype  \n",
      "---  ------   --------------   -----  \n",
      " 0   id       100000 non-null  object \n",
      " 1   f0       100000 non-null  float64\n",
      " 2   f1       100000 non-null  float64\n",
      " 3   f2       100000 non-null  float64\n",
      " 4   product  100000 non-null  float64\n",
      "dtypes: float64(4), object(1)\n",
      "memory usage: 3.8+ MB\n"
     ]
    }
   ],
   "source": [
    "geo_data_1.info()"
   ]
  },
  {
   "cell_type": "code",
   "execution_count": 6,
   "metadata": {},
   "outputs": [
    {
     "name": "stdout",
     "output_type": "stream",
     "text": [
      "<class 'pandas.core.frame.DataFrame'>\n",
      "RangeIndex: 100000 entries, 0 to 99999\n",
      "Data columns (total 5 columns):\n",
      " #   Column   Non-Null Count   Dtype  \n",
      "---  ------   --------------   -----  \n",
      " 0   id       100000 non-null  object \n",
      " 1   f0       100000 non-null  float64\n",
      " 2   f1       100000 non-null  float64\n",
      " 3   f2       100000 non-null  float64\n",
      " 4   product  100000 non-null  float64\n",
      "dtypes: float64(4), object(1)\n",
      "memory usage: 3.8+ MB\n"
     ]
    }
   ],
   "source": [
    "geo_data_2.info()"
   ]
  },
  {
   "cell_type": "markdown",
   "metadata": {},
   "source": [
    "We were informed beforehand that the data possesses the ID, three points of interest that have been abstracted for us, and the amount of product that the well produces in thousands of barrels. Based on the info scans, all our data has been cleanly imported for us.\n",
    "\n",
    "We can get a glance at the differences between our data, based on the descriptive statistics."
   ]
  },
  {
   "cell_type": "code",
   "execution_count": 7,
   "metadata": {
    "scrolled": false
   },
   "outputs": [
    {
     "data": {
      "text/html": [
       "<div>\n",
       "<style scoped>\n",
       "    .dataframe tbody tr th:only-of-type {\n",
       "        vertical-align: middle;\n",
       "    }\n",
       "\n",
       "    .dataframe tbody tr th {\n",
       "        vertical-align: top;\n",
       "    }\n",
       "\n",
       "    .dataframe thead th {\n",
       "        text-align: right;\n",
       "    }\n",
       "</style>\n",
       "<table border=\"1\" class=\"dataframe\">\n",
       "  <thead>\n",
       "    <tr style=\"text-align: right;\">\n",
       "      <th></th>\n",
       "      <th>f0</th>\n",
       "      <th>f1</th>\n",
       "      <th>f2</th>\n",
       "      <th>product</th>\n",
       "    </tr>\n",
       "  </thead>\n",
       "  <tbody>\n",
       "    <tr>\n",
       "      <th>count</th>\n",
       "      <td>100000.000000</td>\n",
       "      <td>100000.000000</td>\n",
       "      <td>100000.000000</td>\n",
       "      <td>100000.000000</td>\n",
       "    </tr>\n",
       "    <tr>\n",
       "      <th>mean</th>\n",
       "      <td>0.500419</td>\n",
       "      <td>0.250143</td>\n",
       "      <td>2.502647</td>\n",
       "      <td>92.500000</td>\n",
       "    </tr>\n",
       "    <tr>\n",
       "      <th>std</th>\n",
       "      <td>0.871832</td>\n",
       "      <td>0.504433</td>\n",
       "      <td>3.248248</td>\n",
       "      <td>44.288691</td>\n",
       "    </tr>\n",
       "    <tr>\n",
       "      <th>min</th>\n",
       "      <td>-1.408605</td>\n",
       "      <td>-0.848218</td>\n",
       "      <td>-12.088328</td>\n",
       "      <td>0.000000</td>\n",
       "    </tr>\n",
       "    <tr>\n",
       "      <th>25%</th>\n",
       "      <td>-0.072580</td>\n",
       "      <td>-0.200881</td>\n",
       "      <td>0.287748</td>\n",
       "      <td>56.497507</td>\n",
       "    </tr>\n",
       "    <tr>\n",
       "      <th>50%</th>\n",
       "      <td>0.502360</td>\n",
       "      <td>0.250252</td>\n",
       "      <td>2.515969</td>\n",
       "      <td>91.849972</td>\n",
       "    </tr>\n",
       "    <tr>\n",
       "      <th>75%</th>\n",
       "      <td>1.073581</td>\n",
       "      <td>0.700646</td>\n",
       "      <td>4.715088</td>\n",
       "      <td>128.564089</td>\n",
       "    </tr>\n",
       "    <tr>\n",
       "      <th>max</th>\n",
       "      <td>2.362331</td>\n",
       "      <td>1.343769</td>\n",
       "      <td>16.003790</td>\n",
       "      <td>185.364347</td>\n",
       "    </tr>\n",
       "  </tbody>\n",
       "</table>\n",
       "</div>"
      ],
      "text/plain": [
       "                  f0             f1             f2        product\n",
       "count  100000.000000  100000.000000  100000.000000  100000.000000\n",
       "mean        0.500419       0.250143       2.502647      92.500000\n",
       "std         0.871832       0.504433       3.248248      44.288691\n",
       "min        -1.408605      -0.848218     -12.088328       0.000000\n",
       "25%        -0.072580      -0.200881       0.287748      56.497507\n",
       "50%         0.502360       0.250252       2.515969      91.849972\n",
       "75%         1.073581       0.700646       4.715088     128.564089\n",
       "max         2.362331       1.343769      16.003790     185.364347"
      ]
     },
     "execution_count": 7,
     "metadata": {},
     "output_type": "execute_result"
    }
   ],
   "source": [
    "geo_data_0.describe()"
   ]
  },
  {
   "cell_type": "code",
   "execution_count": 8,
   "metadata": {},
   "outputs": [
    {
     "data": {
      "text/html": [
       "<div>\n",
       "<style scoped>\n",
       "    .dataframe tbody tr th:only-of-type {\n",
       "        vertical-align: middle;\n",
       "    }\n",
       "\n",
       "    .dataframe tbody tr th {\n",
       "        vertical-align: top;\n",
       "    }\n",
       "\n",
       "    .dataframe thead th {\n",
       "        text-align: right;\n",
       "    }\n",
       "</style>\n",
       "<table border=\"1\" class=\"dataframe\">\n",
       "  <thead>\n",
       "    <tr style=\"text-align: right;\">\n",
       "      <th></th>\n",
       "      <th>f0</th>\n",
       "      <th>f1</th>\n",
       "      <th>f2</th>\n",
       "      <th>product</th>\n",
       "    </tr>\n",
       "  </thead>\n",
       "  <tbody>\n",
       "    <tr>\n",
       "      <th>count</th>\n",
       "      <td>100000.000000</td>\n",
       "      <td>100000.000000</td>\n",
       "      <td>100000.000000</td>\n",
       "      <td>100000.000000</td>\n",
       "    </tr>\n",
       "    <tr>\n",
       "      <th>mean</th>\n",
       "      <td>1.141296</td>\n",
       "      <td>-4.796579</td>\n",
       "      <td>2.494541</td>\n",
       "      <td>68.825000</td>\n",
       "    </tr>\n",
       "    <tr>\n",
       "      <th>std</th>\n",
       "      <td>8.965932</td>\n",
       "      <td>5.119872</td>\n",
       "      <td>1.703572</td>\n",
       "      <td>45.944423</td>\n",
       "    </tr>\n",
       "    <tr>\n",
       "      <th>min</th>\n",
       "      <td>-31.609576</td>\n",
       "      <td>-26.358598</td>\n",
       "      <td>-0.018144</td>\n",
       "      <td>0.000000</td>\n",
       "    </tr>\n",
       "    <tr>\n",
       "      <th>25%</th>\n",
       "      <td>-6.298551</td>\n",
       "      <td>-8.267985</td>\n",
       "      <td>1.000021</td>\n",
       "      <td>26.953261</td>\n",
       "    </tr>\n",
       "    <tr>\n",
       "      <th>50%</th>\n",
       "      <td>1.153055</td>\n",
       "      <td>-4.813172</td>\n",
       "      <td>2.011479</td>\n",
       "      <td>57.085625</td>\n",
       "    </tr>\n",
       "    <tr>\n",
       "      <th>75%</th>\n",
       "      <td>8.621015</td>\n",
       "      <td>-1.332816</td>\n",
       "      <td>3.999904</td>\n",
       "      <td>107.813044</td>\n",
       "    </tr>\n",
       "    <tr>\n",
       "      <th>max</th>\n",
       "      <td>29.421755</td>\n",
       "      <td>18.734063</td>\n",
       "      <td>5.019721</td>\n",
       "      <td>137.945408</td>\n",
       "    </tr>\n",
       "  </tbody>\n",
       "</table>\n",
       "</div>"
      ],
      "text/plain": [
       "                  f0             f1             f2        product\n",
       "count  100000.000000  100000.000000  100000.000000  100000.000000\n",
       "mean        1.141296      -4.796579       2.494541      68.825000\n",
       "std         8.965932       5.119872       1.703572      45.944423\n",
       "min       -31.609576     -26.358598      -0.018144       0.000000\n",
       "25%        -6.298551      -8.267985       1.000021      26.953261\n",
       "50%         1.153055      -4.813172       2.011479      57.085625\n",
       "75%         8.621015      -1.332816       3.999904     107.813044\n",
       "max        29.421755      18.734063       5.019721     137.945408"
      ]
     },
     "execution_count": 8,
     "metadata": {},
     "output_type": "execute_result"
    }
   ],
   "source": [
    "geo_data_1.describe()"
   ]
  },
  {
   "cell_type": "code",
   "execution_count": 9,
   "metadata": {},
   "outputs": [
    {
     "data": {
      "text/html": [
       "<div>\n",
       "<style scoped>\n",
       "    .dataframe tbody tr th:only-of-type {\n",
       "        vertical-align: middle;\n",
       "    }\n",
       "\n",
       "    .dataframe tbody tr th {\n",
       "        vertical-align: top;\n",
       "    }\n",
       "\n",
       "    .dataframe thead th {\n",
       "        text-align: right;\n",
       "    }\n",
       "</style>\n",
       "<table border=\"1\" class=\"dataframe\">\n",
       "  <thead>\n",
       "    <tr style=\"text-align: right;\">\n",
       "      <th></th>\n",
       "      <th>f0</th>\n",
       "      <th>f1</th>\n",
       "      <th>f2</th>\n",
       "      <th>product</th>\n",
       "    </tr>\n",
       "  </thead>\n",
       "  <tbody>\n",
       "    <tr>\n",
       "      <th>count</th>\n",
       "      <td>100000.000000</td>\n",
       "      <td>100000.000000</td>\n",
       "      <td>100000.000000</td>\n",
       "      <td>100000.000000</td>\n",
       "    </tr>\n",
       "    <tr>\n",
       "      <th>mean</th>\n",
       "      <td>0.002023</td>\n",
       "      <td>-0.002081</td>\n",
       "      <td>2.495128</td>\n",
       "      <td>95.000000</td>\n",
       "    </tr>\n",
       "    <tr>\n",
       "      <th>std</th>\n",
       "      <td>1.732045</td>\n",
       "      <td>1.730417</td>\n",
       "      <td>3.473445</td>\n",
       "      <td>44.749921</td>\n",
       "    </tr>\n",
       "    <tr>\n",
       "      <th>min</th>\n",
       "      <td>-8.760004</td>\n",
       "      <td>-7.084020</td>\n",
       "      <td>-11.970335</td>\n",
       "      <td>0.000000</td>\n",
       "    </tr>\n",
       "    <tr>\n",
       "      <th>25%</th>\n",
       "      <td>-1.162288</td>\n",
       "      <td>-1.174820</td>\n",
       "      <td>0.130359</td>\n",
       "      <td>59.450441</td>\n",
       "    </tr>\n",
       "    <tr>\n",
       "      <th>50%</th>\n",
       "      <td>0.009424</td>\n",
       "      <td>-0.009482</td>\n",
       "      <td>2.484236</td>\n",
       "      <td>94.925613</td>\n",
       "    </tr>\n",
       "    <tr>\n",
       "      <th>75%</th>\n",
       "      <td>1.158535</td>\n",
       "      <td>1.163678</td>\n",
       "      <td>4.858794</td>\n",
       "      <td>130.595027</td>\n",
       "    </tr>\n",
       "    <tr>\n",
       "      <th>max</th>\n",
       "      <td>7.238262</td>\n",
       "      <td>7.844801</td>\n",
       "      <td>16.739402</td>\n",
       "      <td>190.029838</td>\n",
       "    </tr>\n",
       "  </tbody>\n",
       "</table>\n",
       "</div>"
      ],
      "text/plain": [
       "                  f0             f1             f2        product\n",
       "count  100000.000000  100000.000000  100000.000000  100000.000000\n",
       "mean        0.002023      -0.002081       2.495128      95.000000\n",
       "std         1.732045       1.730417       3.473445      44.749921\n",
       "min        -8.760004      -7.084020     -11.970335       0.000000\n",
       "25%        -1.162288      -1.174820       0.130359      59.450441\n",
       "50%         0.009424      -0.009482       2.484236      94.925613\n",
       "75%         1.158535       1.163678       4.858794     130.595027\n",
       "max         7.238262       7.844801      16.739402     190.029838"
      ]
     },
     "execution_count": 9,
     "metadata": {},
     "output_type": "execute_result"
    }
   ],
   "source": [
    "geo_data_2.describe()"
   ]
  },
  {
   "cell_type": "markdown",
   "metadata": {},
   "source": [
    "It appears that the variables are fairly different across the models. f0 is the most different and clearly not the same across the three data sets. f1 also has a wide range of values. f2 has a similar mean across the three data sets, but it appears to have some large outliers. The product category is a bit similar. Regardless, we can't treat our data as being the same."
   ]
  },
  {
   "cell_type": "markdown",
   "metadata": {},
   "source": [
    "<div class=\"alert alert-block alert-success\">\n",
    "<b>Success:</b> Data loading and initial analysis were done well!\n",
    "</div>"
   ]
  },
  {
   "cell_type": "markdown",
   "metadata": {},
   "source": [
    "## Testing model per region\n",
    "\n",
    "First, we will create a linear regression model for each region. In order to do so, first we should split each of our data sets into a features and target data, and establish the size of our test set (25% of our data)."
   ]
  },
  {
   "cell_type": "code",
   "execution_count": 10,
   "metadata": {},
   "outputs": [],
   "source": [
    "# set features and target\n",
    "\n",
    "features_0 = geo_data_0.drop(['id', 'product'], axis=1)\n",
    "target_0 = geo_data_0['product']\n",
    "\n",
    "features_1 = geo_data_1.drop(['id', 'product'], axis=1)\n",
    "target_1 = geo_data_1['product']\n",
    "\n",
    "features_2 = geo_data_2.drop(['id', 'product'], axis=1)\n",
    "target_2 = geo_data_2['product']\n",
    "\n",
    "# set size of our training/test split - we will keep it simple and use a standard 75-25 split\n",
    "\n",
    "size = 0.25"
   ]
  },
  {
   "cell_type": "markdown",
   "metadata": {},
   "source": [
    "<div class=\"alert alert-block alert-success\">\n",
    "<b>Success:</b> I agree that we don't need \"id\" column.\n",
    "</div>"
   ]
  },
  {
   "cell_type": "markdown",
   "metadata": {},
   "source": [
    "We will create a function that will give us information about training and testing sets that we can reference anywhere we might need it."
   ]
  },
  {
   "cell_type": "code",
   "execution_count": 11,
   "metadata": {},
   "outputs": [],
   "source": [
    "def print_train_test(features, target):\n",
    "    features_train, features_test, target_train, target_test = train_test_split(features, target,\n",
    "        test_size = size, random_state = 12345)\n",
    "    \n",
    "    print(\"Training features shape:\", features_train.shape)\n",
    "    print(\"Validation features shape:\", features_test.shape)"
   ]
  },
  {
   "cell_type": "code",
   "execution_count": 12,
   "metadata": {},
   "outputs": [
    {
     "name": "stdout",
     "output_type": "stream",
     "text": [
      "Training features shape: (75000, 3)\n",
      "Validation features shape: (25000, 3)\n",
      "\n",
      "Training features shape: (75000, 3)\n",
      "Validation features shape: (25000, 3)\n",
      "\n",
      "Training features shape: (75000, 3)\n",
      "Validation features shape: (25000, 3)\n"
     ]
    }
   ],
   "source": [
    "print_train_test(features_0, target_0)\n",
    "print()\n",
    "print_train_test(features_1, target_1)\n",
    "print()\n",
    "print_train_test(features_2, target_2)"
   ]
  },
  {
   "cell_type": "markdown",
   "metadata": {},
   "source": [
    "We see all our data has been split appropriately with this function. Then we can make a function that will create a model and return our predictions and correct answers that we can run across every data set."
   ]
  },
  {
   "cell_type": "code",
   "execution_count": 13,
   "metadata": {},
   "outputs": [],
   "source": [
    "def get_predicted_valid(features, target):\n",
    "    \n",
    "    features_train, features_test, target_train, target_test = train_test_split(features, target,\n",
    "        test_size = size, random_state = 12345)\n",
    "    \n",
    "    scaler = StandardScaler()\n",
    "    scaler.fit(features_train)\n",
    "    \n",
    "    features_train = scaler.transform(features_train)\n",
    "    features_test = scaler.transform(features_test)\n",
    "    \n",
    "    # create model\n",
    "    \n",
    "    model = LinearRegression()\n",
    "    model.fit(features_train, target_train)\n",
    "    predicted_valid = model.predict(features_test)\n",
    "    \n",
    "    return predicted_valid, target_test"
   ]
  },
  {
   "cell_type": "markdown",
   "metadata": {},
   "source": [
    "<div class=\"alert alert-block alert-success\">\n",
    "<b>Success:</b> Great that scaler was fitted only on train set.\n",
    "</div>"
   ]
  },
  {
   "cell_type": "code",
   "execution_count": 14,
   "metadata": {},
   "outputs": [
    {
     "data": {
      "text/plain": [
       "(array([ 95.89495185,  77.57258261,  77.89263965, ...,  61.50983303,\n",
       "        118.18039721, 118.16939229]),\n",
       " 71751     10.038645\n",
       " 80493    114.551489\n",
       " 2655     132.603635\n",
       " 53233    169.072125\n",
       " 91141    122.325180\n",
       "             ...    \n",
       " 12581    170.116726\n",
       " 18456     93.632175\n",
       " 73035    127.352259\n",
       " 63834     99.782700\n",
       " 43558    177.821022\n",
       " Name: product, Length: 25000, dtype: float64)"
      ]
     },
     "execution_count": 14,
     "metadata": {},
     "output_type": "execute_result"
    }
   ],
   "source": [
    "get_predicted_valid(features_0, target_0)"
   ]
  },
  {
   "cell_type": "markdown",
   "metadata": {},
   "source": [
    "This confirms that the function will work, now we can run it across all of our data sets and get our predictions."
   ]
  },
  {
   "cell_type": "code",
   "execution_count": 15,
   "metadata": {},
   "outputs": [
    {
     "name": "stdout",
     "output_type": "stream",
     "text": [
      "Area 0:\n",
      "\n",
      "Mean of predictions: 92.59256778438035\n",
      "Mean of target: 92.07859674082927\n",
      "Root Mean squared error: 37.5794217150813\n"
     ]
    }
   ],
   "source": [
    "# region zero\n",
    "\n",
    "pred_results_0, target_results_0 = get_predicted_valid(features_0, target_0)\n",
    "\n",
    "print(\"Area 0:\\n\")\n",
    "print(\"Mean of predictions:\", pred_results_0.mean())\n",
    "print(\"Mean of target:\", target_results_0.mean())\n",
    "\n",
    "print(\"Root Mean squared error:\", mean_squared_error(target_results_0, pred_results_0) ** 0.5)"
   ]
  },
  {
   "cell_type": "code",
   "execution_count": 16,
   "metadata": {},
   "outputs": [
    {
     "name": "stdout",
     "output_type": "stream",
     "text": [
      "Area 1:\n",
      "\n",
      "Mean of predictions: 68.728546895446\n",
      "Mean of target: 68.72313602435997\n",
      "Root Mean squared error: 0.893099286775617\n"
     ]
    }
   ],
   "source": [
    "# region one\n",
    "\n",
    "pred_results_1, target_results_1 = get_predicted_valid(features_1, target_1)\n",
    "\n",
    "print(\"Area 1:\\n\")\n",
    "print(\"Mean of predictions:\", pred_results_1.mean())\n",
    "print(\"Mean of target:\", target_results_1.mean())\n",
    "\n",
    "print(\"Root Mean squared error:\", mean_squared_error(target_results_1, pred_results_1) ** 0.5)"
   ]
  },
  {
   "cell_type": "code",
   "execution_count": 17,
   "metadata": {},
   "outputs": [
    {
     "name": "stdout",
     "output_type": "stream",
     "text": [
      "Area 2:\n",
      "\n",
      "Mean of predictions: 94.96504596800489\n",
      "Mean of target: 94.88423280885438\n",
      "Root Mean squared error: 40.02970873393434\n"
     ]
    }
   ],
   "source": [
    "# region two\n",
    "\n",
    "pred_results_2, target_results_2 = get_predicted_valid(features_2, target_2)\n",
    "\n",
    "print(\"Area 2:\\n\")\n",
    "print(\"Mean of predictions:\", pred_results_2.mean())\n",
    "print(\"Mean of target:\", target_results_2.mean())\n",
    "\n",
    "print(\"Root Mean squared error:\", mean_squared_error(target_results_2, pred_results_2) ** 0.5)"
   ]
  },
  {
   "cell_type": "markdown",
   "metadata": {},
   "source": [
    "Based on our results, the models appear well fit. The root mean square error is similar for areas zero and two, but quite different for area one. Based on the descriptive statistics, it is possible that means that the predictor f2 has a large influence on our error rate, as it is the only predictor that is fairly similar between data sets zero and two (being 3.2482 and 3.4734, respectively) but is clearly different for data set one (1.7036).\n",
    "\n",
    "However, it is also possible that the mean square error being largely different is a result of the other two predictors, or also it could be a result of the targets being different. At any rate, we can say that "
   ]
  },
  {
   "cell_type": "markdown",
   "metadata": {},
   "source": [
    "<div class=\"alert alert-block alert-success\">\n",
    "<b>Success:</b> Models were trained correctly. Glad to see that you've avoid code duplication.\n",
    "</div>"
   ]
  },
  {
   "cell_type": "markdown",
   "metadata": {},
   "source": [
    "## Calculate possible profits\n",
    "\n",
    "As stated before, we will first initialize some of our key variables to work with on our financials.\n",
    "\n",
    "One key thing to keep in mind is that our 'product' variable is dealing in thousands. We could solve this in one of two ways: either we adjust the variable or we adjust all our other data to be done in thousands. We will opt for the latter, and this choice is stated in section 1."
   ]
  },
  {
   "cell_type": "markdown",
   "metadata": {},
   "source": [
    "<div class=\"alert alert-block alert-danger\">\n",
    "\n",
    "<b>Needs fixing:</b> Let me explain algorithm one more time:\n",
    "1. From previous steps we get 25000 predicted and 25000 real values for each region.\n",
    "2. In bootstrap, we randomly select 500 points out of 25000 and pass them into function for profit calculation.\n",
    "    1. This function select best 200 wells by predicted values.\n",
    "    2. After that we calculate revenue with the help of real values of <b>corresponding</b> wells.\n",
    "    3. At the end of this function we calculate `profit=revenue-costs`.\n",
    "3. We run 1000 times algorithm that is described above [each time sample 500 random wells out of 25000] and add all values [i mean result of \"profit\" function] to list (e.g. `profit_list`).\n",
    "4. After that we calculate mean of this list, risk of losses (percentage of negative values in this list) and confidence interval (just 0.025 and 0.975 quantiles of this list).\n",
    "</div>"
   ]
  },
  {
   "cell_type": "markdown",
   "metadata": {},
   "source": [
    "**Comment:** Section has been mostly redone, please recheck."
   ]
  },
  {
   "cell_type": "code",
   "execution_count": 18,
   "metadata": {},
   "outputs": [],
   "source": [
    "# budget is $100,000,000. Since our numbers deal in thousands, we should adjust that to 100,000 sets of $1000\n",
    "\n",
    "budget = 100000\n",
    "\n",
    "# the gross profit for unit of production - since we are dealing in thousands, 1 unit = $4500 = 4.5\n",
    "\n",
    "gross_profit_per_unit = 4.5\n",
    "\n",
    "# set number of wells\n",
    "\n",
    "wells = 200\n",
    "cost_per_well = budget / wells\n",
    "\n",
    "# find minimum revenue\n",
    "\n",
    "minimum_product = cost_per_well / gross_profit_per_unit\n",
    "\n",
    "# set random state\n",
    "\n",
    "state = np.random.RandomState(12345)\n",
    "\n",
    "# we can initialize a variable to equal our threshold for loss amount\n",
    "\n",
    "loss_threshold = 0.025"
   ]
  },
  {
   "cell_type": "markdown",
   "metadata": {},
   "source": [
    "<div class=\"alert alert-block alert-info\">\n",
    "<b>Improve (review 2): </b> It would be better if only uppercase letters were used in constant variable names.\n",
    "</div>"
   ]
  },
  {
   "cell_type": "code",
   "execution_count": 19,
   "metadata": {},
   "outputs": [
    {
     "name": "stdout",
     "output_type": "stream",
     "text": [
      "In order to break even, a well must produce at least 111.11111111111111 units of product.\n",
      "To break even, the total production of our 200 wells should be 22222.222222222223 units of product.\n"
     ]
    }
   ],
   "source": [
    "print(\"In order to break even, a well must produce at least\", minimum_product, \"units of product.\")\n",
    "print(\"To break even, the total production of our 200 wells should be\", minimum_product * wells, \"units of product.\")"
   ]
  },
  {
   "cell_type": "markdown",
   "metadata": {},
   "source": [
    "<div class=\"alert alert-block alert-success\">\n",
    "<b>Success (review 2):</b> The breakeven point was found correctly!\n",
    "</div>"
   ]
  },
  {
   "cell_type": "markdown",
   "metadata": {},
   "source": [
    "We know the average number of units a single well should produce, as well as the total value needed across all wells (this will be useful since it is certain that each well will produce a different amount of product. Now, we need to make a function that will let us access the predictions of our top 200 wells. To do this, we can simply sort our predictions from greatest to lowest and then limit that list to the top 200 wells, then add together the predicted units of product that each"
   ]
  },
  {
   "cell_type": "code",
   "execution_count": 20,
   "metadata": {},
   "outputs": [],
   "source": [
    "# a function that will return the sum of the production for the top 200 wells\n",
    "\n",
    "def top_wells_prediction(prediction, real):\n",
    "    prediction_sorted = prediction.sort_values(ascending = False)\n",
    "    top_wells_prediction = real[prediction_sorted.index][:wells]\n",
    "    return top_wells_prediction.sum()\n",
    "\n",
    "# a function to find the profit, given the total production\n",
    "\n",
    "def find_profit(production, budget):\n",
    "    revenue = production * gross_profit_per_unit\n",
    "    profit = revenue - budget\n",
    "    \n",
    "    # convert into dollar amount, since profit is in thousands\n",
    "    converted_profit = profit * 1000\n",
    "    return converted_profit"
   ]
  },
  {
   "cell_type": "code",
   "execution_count": 32,
   "metadata": {},
   "outputs": [],
   "source": [
    "def bootstrap_test(probabilities, target):\n",
    "    production_list = []\n",
    "    probabilities = pd.Series(probabilities, index = target.index)\n",
    "\n",
    "    for i in range(1000):\n",
    "        # get target/prob\n",
    "        target_subsample = target.sample(n = 500, replace = True, random_state = state)\n",
    "        probs_subsample = probabilities[target_subsample.index]\n",
    "    \n",
    "        # get avg revenue\n",
    "        res_subsample = top_wells_prediction(probs_subsample, target_subsample)\n",
    "    \n",
    "        # append values\n",
    "        production_list.append(res_subsample)\n",
    "    \n",
    "    # get list of production and profit\n",
    "    \n",
    "    production_list = pd.Series(production_list)\n",
    "\n",
    "    mean = production_list.mean()\n",
    "    \n",
    "    profit_list = find_profit(production_list, budget)\n",
    "    profit_mean = profit_list.mean()\n",
    "    \n",
    "    # create 95% CI for profits\n",
    "    \n",
    "    ci_lower = profit_list.quantile(0.025)\n",
    "    ci_upper = profit_list.quantile(0.975)\n",
    "    \n",
    "    # calculate risk of loss\n",
    "    risk_chance = (len([value for value in profit_list if value < 0]) / len(profit_list)) * 100\n",
    "    \n",
    "    print(\"Average production:\", mean, \"units\")\n",
    "    print()\n",
    "    print(\"Average profit: $\", profit_mean)\n",
    "    print(\"Average profit 95% CI:\", \"(\", ci_lower, \",\", ci_upper, \")\")\n",
    "    print()\n",
    "    print(\"Risk of loss:\", risk_chance, \"%\")\n",
    "    if (risk_chance / 100) > loss_threshold:\n",
    "        print(\"Risk of loss too high.\")"
   ]
  },
  {
   "cell_type": "markdown",
   "metadata": {},
   "source": [
    "<div class=\"alert alert-block alert-danger\">\n",
    "\n",
    "<b>Needs fixing (review 2):</b> \n",
    "1. `state` is not defined\n",
    "2. Parameters in `top_wells_prediction` function were passed in incorrect order.\n",
    "3. There is no need to use 0.01 or 0.99 quantilies.\n",
    "4. Confidence interval should be calculated in the function above (no need for separate function). Just 0.025 and 0.975 quantilies of `profit_list`.\n",
    "5. Risk of losses = percent of negative values in `profit_list`.\n",
    "</div>"
   ]
  },
  {
   "cell_type": "markdown",
   "metadata": {},
   "source": [
    "**Comments:** This is the section that was altered. The issues 1-3 were cleared out (state is defined in the variable definition at the start of the section). Calculating confidence interval and risk of loss were added to the function."
   ]
  },
  {
   "cell_type": "code",
   "execution_count": 33,
   "metadata": {
    "scrolled": true
   },
   "outputs": [
    {
     "name": "stdout",
     "output_type": "stream",
     "text": [
      "Area Zero:\n",
      "Average production: 23146.0660712566 units\n",
      "\n",
      "Average profit: $ 4157297.3206547024\n",
      "Average profit 95% CI: ( -839040.0418059878 , 9672671.737710377 )\n",
      "\n",
      "Risk of loss: 5.7 %\n",
      "Risk of loss too high.\n"
     ]
    }
   ],
   "source": [
    "print(\"Area Zero:\")\n",
    "bootstrap_test(pred_results_0, target_results_0)"
   ]
  },
  {
   "cell_type": "code",
   "execution_count": 34,
   "metadata": {},
   "outputs": [
    {
     "name": "stdout",
     "output_type": "stream",
     "text": [
      "Area One:\n",
      "Average production: 23364.217316883412 units\n",
      "\n",
      "Average profit: $ 5138977.925975348\n",
      "Average profit 95% CI: ( 880463.2393889854 , 9559672.457516246 )\n",
      "\n",
      "Risk of loss: 1.0999999999999999 %\n"
     ]
    }
   ],
   "source": [
    "print(\"Area One:\")\n",
    "bootstrap_test(pred_results_1, target_results_1)"
   ]
  },
  {
   "cell_type": "code",
   "execution_count": 35,
   "metadata": {},
   "outputs": [
    {
     "name": "stdout",
     "output_type": "stream",
     "text": [
      "Area Two:\n",
      "Average production: 23169.050792875358 units\n",
      "\n",
      "Average profit: $ 4260728.56793911\n",
      "Average profit 95% CI: ( -1429805.6483970576 , 9502194.53489145 )\n",
      "\n",
      "Risk of loss: 7.5 %\n",
      "Risk of loss too high.\n"
     ]
    }
   ],
   "source": [
    "print(\"Area Two:\")\n",
    "bootstrap_test(pred_results_2, target_results_2)"
   ]
  },
  {
   "cell_type": "markdown",
   "metadata": {},
   "source": [
    "Based on the bootstrapped model, it seems that Area One is the only viable option. While each area does reach an average production that surpasses our budget and thus they all have an average that is above our threshold of 22222 units of product. However, areas zero and two also have a risk of losses in their 95% confidence intervals. This risk is calculated as above our threshold of 2.5%, which means we cannot consider either to be an option and thus area one is the area that will be chosen to drill."
   ]
  },
  {
   "cell_type": "markdown",
   "metadata": {},
   "source": [
    "<div class=\"alert alert-block alert-success\">\n",
    "<b>Success (review 4):</b> All statistics are calculated correctly now!\n",
    "</div>"
   ]
  },
  {
   "cell_type": "markdown",
   "metadata": {},
   "source": [
    "## Conclusion\n",
    "\n",
    "In conclusion, we had analyzed our three models using linear regression in order to determine which one had the highest profits. From our model testing, we would too at risk of loss in areas zero and two, but in area one we would be able to profit."
   ]
  },
  {
   "cell_type": "markdown",
   "metadata": {},
   "source": [
    "<div class=\"alert alert-block alert-success\">\n",
    "<b>Success (review 4):</b> I agree with your choice!\n",
    "</div>"
   ]
  },
  {
   "cell_type": "code",
   "execution_count": null,
   "metadata": {},
   "outputs": [],
   "source": []
  }
 ],
 "metadata": {
  "ExecuteTimeLog": [
   {
    "duration": 542,
    "start_time": "2022-03-25T01:58:27.858Z"
   },
   {
    "duration": 96,
    "start_time": "2022-03-25T01:58:52.851Z"
   },
   {
    "duration": 66,
    "start_time": "2022-03-25T01:58:56.514Z"
   },
   {
    "duration": 18,
    "start_time": "2022-03-25T01:59:03.843Z"
   },
   {
    "duration": 74,
    "start_time": "2022-03-25T01:59:07.243Z"
   },
   {
    "duration": 163,
    "start_time": "2022-03-25T02:45:33.039Z"
   },
   {
    "duration": 453,
    "start_time": "2022-03-25T02:45:46.930Z"
   },
   {
    "duration": 29,
    "start_time": "2022-03-25T02:45:52.780Z"
   },
   {
    "duration": 18,
    "start_time": "2022-03-25T02:45:58.386Z"
   },
   {
    "duration": 20,
    "start_time": "2022-03-25T02:46:03.941Z"
   },
   {
    "duration": 21,
    "start_time": "2022-03-25T02:47:38.126Z"
   },
   {
    "duration": 22,
    "start_time": "2022-03-25T02:47:47.023Z"
   },
   {
    "duration": 21,
    "start_time": "2022-03-25T02:47:50.381Z"
   },
   {
    "duration": 11,
    "start_time": "2022-03-25T04:49:40.155Z"
   },
   {
    "duration": 584,
    "start_time": "2022-03-25T04:49:44.253Z"
   },
   {
    "duration": 4,
    "start_time": "2022-03-25T04:49:47.696Z"
   },
   {
    "duration": 48,
    "start_time": "2022-03-25T04:49:49.429Z"
   },
   {
    "duration": 8,
    "start_time": "2022-03-25T04:49:54.760Z"
   },
   {
    "duration": 1774,
    "start_time": "2022-03-25T04:50:06.552Z"
   },
   {
    "duration": 15,
    "start_time": "2022-03-25T04:50:10.156Z"
   },
   {
    "duration": 6,
    "start_time": "2022-03-25T04:50:12.971Z"
   },
   {
    "duration": 8,
    "start_time": "2022-03-25T04:50:19.733Z"
   },
   {
    "duration": 15,
    "start_time": "2022-03-25T04:52:18.542Z"
   },
   {
    "duration": 12,
    "start_time": "2022-03-25T04:52:27.543Z"
   },
   {
    "duration": 5,
    "start_time": "2022-03-25T04:52:30.273Z"
   },
   {
    "duration": 8,
    "start_time": "2022-03-25T04:52:30.890Z"
   },
   {
    "duration": 1969,
    "start_time": "2022-03-25T04:53:32.459Z"
   },
   {
    "duration": 6,
    "start_time": "2022-03-25T04:53:51.461Z"
   },
   {
    "duration": 8,
    "start_time": "2022-03-25T04:53:58.023Z"
   },
   {
    "duration": 7,
    "start_time": "2022-03-25T04:54:01.582Z"
   },
   {
    "duration": 7,
    "start_time": "2022-03-25T04:54:21.131Z"
   },
   {
    "duration": 7,
    "start_time": "2022-03-25T04:54:29.234Z"
   },
   {
    "duration": 7,
    "start_time": "2022-03-25T04:54:33.820Z"
   },
   {
    "duration": 7,
    "start_time": "2022-03-25T04:54:48.222Z"
   },
   {
    "duration": 8,
    "start_time": "2022-03-25T04:55:43.775Z"
   },
   {
    "duration": 9,
    "start_time": "2022-03-25T04:55:55.832Z"
   },
   {
    "duration": 7,
    "start_time": "2022-03-25T04:55:58.992Z"
   },
   {
    "duration": 9,
    "start_time": "2022-03-25T04:56:28.869Z"
   },
   {
    "duration": 14,
    "start_time": "2022-03-25T04:56:42.824Z"
   },
   {
    "duration": 9,
    "start_time": "2022-03-25T04:56:48.169Z"
   },
   {
    "duration": 1163,
    "start_time": "2022-03-26T03:10:37.064Z"
   },
   {
    "duration": 1754,
    "start_time": "2022-03-26T03:10:38.229Z"
   },
   {
    "duration": 23,
    "start_time": "2022-03-26T03:10:39.984Z"
   },
   {
    "duration": 30,
    "start_time": "2022-03-26T03:10:40.009Z"
   },
   {
    "duration": 16,
    "start_time": "2022-03-26T03:10:40.041Z"
   },
   {
    "duration": 16,
    "start_time": "2022-03-26T03:10:40.059Z"
   },
   {
    "duration": 4,
    "start_time": "2022-03-26T03:10:40.076Z"
   },
   {
    "duration": 41,
    "start_time": "2022-03-26T03:10:50.206Z"
   },
   {
    "duration": 42,
    "start_time": "2022-03-26T03:10:56.375Z"
   },
   {
    "duration": 38,
    "start_time": "2022-03-26T03:11:04.186Z"
   },
   {
    "duration": 104,
    "start_time": "2022-03-26T03:21:20.409Z"
   },
   {
    "duration": 13,
    "start_time": "2022-03-26T03:23:39.153Z"
   },
   {
    "duration": 15,
    "start_time": "2022-03-26T03:23:52.810Z"
   },
   {
    "duration": 10,
    "start_time": "2022-03-26T03:30:19.364Z"
   },
   {
    "duration": 17,
    "start_time": "2022-03-26T03:30:27.008Z"
   },
   {
    "duration": 4,
    "start_time": "2022-03-26T03:30:40.282Z"
   },
   {
    "duration": 17,
    "start_time": "2022-03-26T03:30:44.883Z"
   },
   {
    "duration": 32,
    "start_time": "2022-03-26T03:30:47.140Z"
   },
   {
    "duration": 33,
    "start_time": "2022-03-26T03:30:54.876Z"
   },
   {
    "duration": 34,
    "start_time": "2022-03-26T03:31:03.196Z"
   },
   {
    "duration": 17,
    "start_time": "2022-03-26T03:31:07.023Z"
   },
   {
    "duration": 63,
    "start_time": "2022-03-26T03:31:16.070Z"
   },
   {
    "duration": 11,
    "start_time": "2022-03-26T03:33:49.778Z"
   },
   {
    "duration": 40,
    "start_time": "2022-03-26T03:33:53.569Z"
   },
   {
    "duration": 36,
    "start_time": "2022-03-26T03:34:19.109Z"
   },
   {
    "duration": 11,
    "start_time": "2022-03-26T03:34:39.086Z"
   },
   {
    "duration": 35,
    "start_time": "2022-03-26T03:36:24.503Z"
   },
   {
    "duration": 4,
    "start_time": "2022-03-26T03:36:52.149Z"
   },
   {
    "duration": 45,
    "start_time": "2022-03-26T03:36:57.029Z"
   },
   {
    "duration": 864,
    "start_time": "2022-03-26T03:37:05.207Z"
   },
   {
    "duration": 1774,
    "start_time": "2022-03-26T03:39:34.878Z"
   },
   {
    "duration": 834,
    "start_time": "2022-03-26T03:39:39.517Z"
   },
   {
    "duration": 3,
    "start_time": "2022-03-26T03:43:00.350Z"
   },
   {
    "duration": 651,
    "start_time": "2022-03-26T03:43:56.288Z"
   },
   {
    "duration": 1971,
    "start_time": "2022-03-26T03:44:05.562Z"
   },
   {
    "duration": 1840,
    "start_time": "2022-03-26T03:44:46.702Z"
   },
   {
    "duration": 1961,
    "start_time": "2022-03-26T03:44:55.772Z"
   },
   {
    "duration": 2018,
    "start_time": "2022-03-26T03:45:19.422Z"
   },
   {
    "duration": 1896,
    "start_time": "2022-03-26T03:56:37.933Z"
   },
   {
    "duration": 16698,
    "start_time": "2022-03-26T03:56:48.542Z"
   },
   {
    "duration": 1263,
    "start_time": "2022-03-26T03:57:38.674Z"
   },
   {
    "duration": 1703,
    "start_time": "2022-03-26T03:57:42.811Z"
   },
   {
    "duration": 625,
    "start_time": "2022-03-26T03:57:57.813Z"
   },
   {
    "duration": 3,
    "start_time": "2022-03-26T04:05:06.235Z"
   },
   {
    "duration": 8,
    "start_time": "2022-03-26T04:06:33.866Z"
   },
   {
    "duration": 372,
    "start_time": "2022-03-26T04:07:17.763Z"
   },
   {
    "duration": 160,
    "start_time": "2022-03-26T05:31:33.489Z"
   },
   {
    "duration": 4,
    "start_time": "2022-03-26T05:31:37.131Z"
   },
   {
    "duration": 21,
    "start_time": "2022-03-26T05:31:48.108Z"
   },
   {
    "duration": 4,
    "start_time": "2022-03-26T05:32:57.998Z"
   },
   {
    "duration": 26,
    "start_time": "2022-03-26T05:33:00.670Z"
   },
   {
    "duration": 4,
    "start_time": "2022-03-26T05:33:13.570Z"
   },
   {
    "duration": 32,
    "start_time": "2022-03-26T05:33:15.336Z"
   },
   {
    "duration": 4,
    "start_time": "2022-03-26T05:42:19.889Z"
   },
   {
    "duration": 14,
    "start_time": "2022-03-26T05:42:22.170Z"
   },
   {
    "duration": 4,
    "start_time": "2022-03-26T05:46:37.087Z"
   },
   {
    "duration": 4,
    "start_time": "2022-03-26T05:53:50.277Z"
   },
   {
    "duration": 8,
    "start_time": "2022-03-26T05:53:59.842Z"
   },
   {
    "duration": 29,
    "start_time": "2022-03-26T05:54:14.067Z"
   },
   {
    "duration": 4,
    "start_time": "2022-03-26T05:54:30.348Z"
   },
   {
    "duration": 29,
    "start_time": "2022-03-26T05:54:31.463Z"
   },
   {
    "duration": 5,
    "start_time": "2022-03-26T05:54:43.487Z"
   },
   {
    "duration": 28,
    "start_time": "2022-03-26T05:54:44.200Z"
   },
   {
    "duration": 4,
    "start_time": "2022-03-26T05:54:59.330Z"
   },
   {
    "duration": 37,
    "start_time": "2022-03-26T05:55:00.235Z"
   },
   {
    "duration": 4,
    "start_time": "2022-03-26T05:55:20.086Z"
   },
   {
    "duration": 35,
    "start_time": "2022-03-26T05:55:22.311Z"
   },
   {
    "duration": 4,
    "start_time": "2022-03-26T05:56:07.852Z"
   },
   {
    "duration": 4,
    "start_time": "2022-03-26T05:56:10.151Z"
   },
   {
    "duration": 37,
    "start_time": "2022-03-26T05:56:10.911Z"
   },
   {
    "duration": 5,
    "start_time": "2022-03-26T05:57:15.343Z"
   },
   {
    "duration": 38,
    "start_time": "2022-03-26T05:57:16.000Z"
   },
   {
    "duration": 1229,
    "start_time": "2022-03-27T00:41:42.495Z"
   },
   {
    "duration": 324,
    "start_time": "2022-03-27T00:41:43.726Z"
   },
   {
    "duration": 16,
    "start_time": "2022-03-27T00:41:44.051Z"
   },
   {
    "duration": 21,
    "start_time": "2022-03-27T00:41:44.069Z"
   },
   {
    "duration": 12,
    "start_time": "2022-03-27T00:41:44.091Z"
   },
   {
    "duration": 11,
    "start_time": "2022-03-27T00:41:44.104Z"
   },
   {
    "duration": 30,
    "start_time": "2022-03-27T00:41:44.117Z"
   },
   {
    "duration": 53,
    "start_time": "2022-03-27T00:41:44.148Z"
   },
   {
    "duration": 27,
    "start_time": "2022-03-27T00:41:44.202Z"
   },
   {
    "duration": 3,
    "start_time": "2022-03-27T00:41:44.230Z"
   },
   {
    "duration": 8,
    "start_time": "2022-03-27T00:41:44.235Z"
   },
   {
    "duration": 5,
    "start_time": "2022-03-27T00:41:44.244Z"
   },
   {
    "duration": 105,
    "start_time": "2022-03-27T00:41:44.250Z"
   },
   {
    "duration": 0,
    "start_time": "2022-03-27T00:41:44.357Z"
   },
   {
    "duration": 0,
    "start_time": "2022-03-27T00:41:44.358Z"
   },
   {
    "duration": 7,
    "start_time": "2022-03-27T00:42:04.187Z"
   },
   {
    "duration": 3,
    "start_time": "2022-03-27T00:42:04.887Z"
   },
   {
    "duration": 13,
    "start_time": "2022-03-27T00:42:12.183Z"
   },
   {
    "duration": 3,
    "start_time": "2022-03-27T00:42:12.848Z"
   },
   {
    "duration": 33,
    "start_time": "2022-03-27T00:42:15.088Z"
   },
   {
    "duration": 3,
    "start_time": "2022-03-27T00:45:27.063Z"
   },
   {
    "duration": 33,
    "start_time": "2022-03-27T00:45:27.549Z"
   },
   {
    "duration": 17,
    "start_time": "2022-03-27T00:47:21.646Z"
   },
   {
    "duration": 203,
    "start_time": "2022-03-27T00:47:27.360Z"
   },
   {
    "duration": 10,
    "start_time": "2022-03-27T00:47:31.211Z"
   },
   {
    "duration": 22,
    "start_time": "2022-03-27T00:47:45.864Z"
   },
   {
    "duration": 22,
    "start_time": "2022-03-27T00:47:59.135Z"
   },
   {
    "duration": 3,
    "start_time": "2022-03-27T01:12:41.532Z"
   },
   {
    "duration": 25,
    "start_time": "2022-03-27T01:21:12.866Z"
   },
   {
    "duration": 26,
    "start_time": "2022-03-27T01:21:23.840Z"
   },
   {
    "duration": 24,
    "start_time": "2022-03-27T01:21:37.766Z"
   },
   {
    "duration": 23,
    "start_time": "2022-03-27T01:21:48.345Z"
   },
   {
    "duration": 24,
    "start_time": "2022-03-27T01:30:49.351Z"
   },
   {
    "duration": 24,
    "start_time": "2022-03-27T01:30:55.271Z"
   },
   {
    "duration": 29,
    "start_time": "2022-03-27T01:31:27.956Z"
   },
   {
    "duration": 30,
    "start_time": "2022-03-27T01:36:58.092Z"
   },
   {
    "duration": 47,
    "start_time": "2022-03-27T20:51:27.621Z"
   },
   {
    "duration": 1029,
    "start_time": "2022-03-27T20:51:31.724Z"
   },
   {
    "duration": 329,
    "start_time": "2022-03-27T20:51:32.755Z"
   },
   {
    "duration": 23,
    "start_time": "2022-03-27T20:51:33.086Z"
   },
   {
    "duration": 14,
    "start_time": "2022-03-27T20:51:33.111Z"
   },
   {
    "duration": 12,
    "start_time": "2022-03-27T20:51:33.127Z"
   },
   {
    "duration": 13,
    "start_time": "2022-03-27T20:51:33.141Z"
   },
   {
    "duration": 65,
    "start_time": "2022-03-27T20:51:33.155Z"
   },
   {
    "duration": 32,
    "start_time": "2022-03-27T20:51:33.222Z"
   },
   {
    "duration": 54,
    "start_time": "2022-03-27T20:51:33.255Z"
   },
   {
    "duration": 3,
    "start_time": "2022-03-27T20:51:33.311Z"
   },
   {
    "duration": 9,
    "start_time": "2022-03-27T20:51:33.316Z"
   },
   {
    "duration": 4,
    "start_time": "2022-03-27T20:51:33.327Z"
   },
   {
    "duration": 29,
    "start_time": "2022-03-27T20:51:33.332Z"
   },
   {
    "duration": 3,
    "start_time": "2022-03-27T20:51:33.364Z"
   },
   {
    "duration": 59,
    "start_time": "2022-03-27T20:51:33.369Z"
   },
   {
    "duration": 196,
    "start_time": "2022-03-27T20:51:33.430Z"
   },
   {
    "duration": 198,
    "start_time": "2022-03-27T20:51:33.629Z"
   },
   {
    "duration": 230,
    "start_time": "2022-03-27T20:51:33.829Z"
   },
   {
    "duration": 0,
    "start_time": "2022-03-27T20:51:34.061Z"
   },
   {
    "duration": 30,
    "start_time": "2022-03-27T20:53:18.485Z"
   },
   {
    "duration": 36,
    "start_time": "2022-03-27T20:53:31.230Z"
   },
   {
    "duration": 26,
    "start_time": "2022-03-27T20:53:34.033Z"
   },
   {
    "duration": 37,
    "start_time": "2022-03-27T20:53:52.552Z"
   },
   {
    "duration": 33,
    "start_time": "2022-03-27T20:53:57.746Z"
   },
   {
    "duration": 4,
    "start_time": "2022-03-27T20:59:44.395Z"
   },
   {
    "duration": 48,
    "start_time": "2022-03-27T20:59:45.669Z"
   },
   {
    "duration": 50,
    "start_time": "2022-03-27T20:59:48.260Z"
   },
   {
    "duration": 41,
    "start_time": "2022-03-27T20:59:50.373Z"
   },
   {
    "duration": 52,
    "start_time": "2022-03-27T20:59:51.157Z"
   },
   {
    "duration": 3,
    "start_time": "2022-03-27T22:45:36.618Z"
   },
   {
    "duration": 4,
    "start_time": "2022-03-27T22:48:02.691Z"
   },
   {
    "duration": 4,
    "start_time": "2022-03-27T22:48:05.715Z"
   },
   {
    "duration": 3,
    "start_time": "2022-03-27T22:49:03.509Z"
   },
   {
    "duration": 3,
    "start_time": "2022-03-27T22:49:17.175Z"
   },
   {
    "duration": 4,
    "start_time": "2022-03-27T22:51:07.287Z"
   },
   {
    "duration": 4,
    "start_time": "2022-03-27T22:57:37.622Z"
   },
   {
    "duration": 4,
    "start_time": "2022-03-27T22:57:42.575Z"
   },
   {
    "duration": 5,
    "start_time": "2022-03-27T22:58:53.988Z"
   },
   {
    "duration": 5,
    "start_time": "2022-03-27T22:59:10.533Z"
   },
   {
    "duration": 5,
    "start_time": "2022-03-27T22:59:18.406Z"
   },
   {
    "duration": 78,
    "start_time": "2022-03-27T23:02:07.272Z"
   },
   {
    "duration": 3,
    "start_time": "2022-03-27T23:02:19.579Z"
   },
   {
    "duration": 11,
    "start_time": "2022-03-27T23:02:43.490Z"
   },
   {
    "duration": 3,
    "start_time": "2022-03-27T23:02:56.617Z"
   },
   {
    "duration": 22,
    "start_time": "2022-03-27T23:02:57.322Z"
   },
   {
    "duration": 3,
    "start_time": "2022-03-27T23:03:53.243Z"
   },
   {
    "duration": 21,
    "start_time": "2022-03-27T23:03:55.469Z"
   },
   {
    "duration": 3,
    "start_time": "2022-03-27T23:04:29.138Z"
   },
   {
    "duration": 341,
    "start_time": "2022-03-27T23:04:29.143Z"
   },
   {
    "duration": 12,
    "start_time": "2022-03-27T23:04:29.485Z"
   },
   {
    "duration": 22,
    "start_time": "2022-03-27T23:04:29.499Z"
   },
   {
    "duration": 13,
    "start_time": "2022-03-27T23:04:29.523Z"
   },
   {
    "duration": 13,
    "start_time": "2022-03-27T23:04:29.537Z"
   },
   {
    "duration": 59,
    "start_time": "2022-03-27T23:04:29.552Z"
   },
   {
    "duration": 44,
    "start_time": "2022-03-27T23:04:29.613Z"
   },
   {
    "duration": 32,
    "start_time": "2022-03-27T23:04:29.659Z"
   },
   {
    "duration": 5,
    "start_time": "2022-03-27T23:04:29.710Z"
   },
   {
    "duration": 10,
    "start_time": "2022-03-27T23:04:29.716Z"
   },
   {
    "duration": 5,
    "start_time": "2022-03-27T23:04:29.728Z"
   },
   {
    "duration": 27,
    "start_time": "2022-03-27T23:04:29.735Z"
   },
   {
    "duration": 3,
    "start_time": "2022-03-27T23:04:29.765Z"
   },
   {
    "duration": 68,
    "start_time": "2022-03-27T23:04:29.769Z"
   },
   {
    "duration": 118,
    "start_time": "2022-03-27T23:04:29.911Z"
   },
   {
    "duration": 191,
    "start_time": "2022-03-27T23:04:30.032Z"
   },
   {
    "duration": 190,
    "start_time": "2022-03-27T23:04:30.225Z"
   },
   {
    "duration": 93,
    "start_time": "2022-03-27T23:04:30.418Z"
   },
   {
    "duration": 98,
    "start_time": "2022-03-27T23:04:30.514Z"
   },
   {
    "duration": 8,
    "start_time": "2022-03-27T23:04:30.613Z"
   },
   {
    "duration": 21,
    "start_time": "2022-03-27T23:04:33.083Z"
   },
   {
    "duration": 3,
    "start_time": "2022-03-27T23:05:14.564Z"
   },
   {
    "duration": 8,
    "start_time": "2022-03-27T23:05:16.001Z"
   },
   {
    "duration": 8,
    "start_time": "2022-03-27T23:05:42.761Z"
   },
   {
    "duration": 8,
    "start_time": "2022-03-27T23:05:48.925Z"
   },
   {
    "duration": 4,
    "start_time": "2022-03-27T23:06:18.108Z"
   },
   {
    "duration": 8,
    "start_time": "2022-03-27T23:06:18.781Z"
   },
   {
    "duration": 4,
    "start_time": "2022-03-27T23:06:33.695Z"
   },
   {
    "duration": 49,
    "start_time": "2022-03-27T23:06:34.469Z"
   },
   {
    "duration": 3,
    "start_time": "2022-03-27T23:06:39.077Z"
   },
   {
    "duration": 20,
    "start_time": "2022-03-27T23:06:41.135Z"
   },
   {
    "duration": 3,
    "start_time": "2022-03-27T23:06:44.022Z"
   },
   {
    "duration": 9,
    "start_time": "2022-03-27T23:06:46.409Z"
   },
   {
    "duration": 3,
    "start_time": "2022-03-27T23:07:28.076Z"
   },
   {
    "duration": 3,
    "start_time": "2022-03-27T23:07:32.798Z"
   },
   {
    "duration": 20,
    "start_time": "2022-03-27T23:07:33.185Z"
   },
   {
    "duration": 3,
    "start_time": "2022-03-27T23:07:39.857Z"
   },
   {
    "duration": 36,
    "start_time": "2022-03-27T23:07:40.464Z"
   },
   {
    "duration": 3,
    "start_time": "2022-03-27T23:07:49.816Z"
   },
   {
    "duration": 3,
    "start_time": "2022-03-27T23:07:53.681Z"
   },
   {
    "duration": 10,
    "start_time": "2022-03-27T23:07:53.968Z"
   },
   {
    "duration": 8,
    "start_time": "2022-03-27T23:08:19.628Z"
   },
   {
    "duration": 9,
    "start_time": "2022-03-27T23:08:32.846Z"
   },
   {
    "duration": 3,
    "start_time": "2022-03-27T23:09:09.253Z"
   },
   {
    "duration": 13,
    "start_time": "2022-03-27T23:09:09.823Z"
   },
   {
    "duration": 3,
    "start_time": "2022-03-27T23:09:47.786Z"
   },
   {
    "duration": 18,
    "start_time": "2022-03-27T23:09:48.243Z"
   },
   {
    "duration": 3,
    "start_time": "2022-03-27T23:09:52.387Z"
   },
   {
    "duration": 21,
    "start_time": "2022-03-27T23:09:53.354Z"
   },
   {
    "duration": 3,
    "start_time": "2022-03-27T23:12:00.872Z"
   },
   {
    "duration": 17,
    "start_time": "2022-03-27T23:12:03.283Z"
   },
   {
    "duration": 3,
    "start_time": "2022-03-27T23:12:09.185Z"
   },
   {
    "duration": 16,
    "start_time": "2022-03-27T23:12:09.844Z"
   },
   {
    "duration": 3,
    "start_time": "2022-03-27T23:12:52.010Z"
   },
   {
    "duration": 16,
    "start_time": "2022-03-27T23:12:52.720Z"
   },
   {
    "duration": 3,
    "start_time": "2022-03-27T23:13:50.250Z"
   },
   {
    "duration": 20,
    "start_time": "2022-03-27T23:13:57.588Z"
   },
   {
    "duration": 3,
    "start_time": "2022-03-27T23:17:22.149Z"
   },
   {
    "duration": 33,
    "start_time": "2022-03-27T23:17:24.572Z"
   },
   {
    "duration": 4,
    "start_time": "2022-03-27T23:17:43.824Z"
   },
   {
    "duration": 5,
    "start_time": "2022-03-27T23:17:48.448Z"
   },
   {
    "duration": 8,
    "start_time": "2022-03-27T23:18:18.359Z"
   },
   {
    "duration": 6,
    "start_time": "2022-03-27T23:18:23.556Z"
   },
   {
    "duration": 61,
    "start_time": "2022-03-27T23:18:42.488Z"
   },
   {
    "duration": 8,
    "start_time": "2022-03-27T23:18:45.193Z"
   },
   {
    "duration": 3,
    "start_time": "2022-03-27T23:19:04.428Z"
   },
   {
    "duration": 35,
    "start_time": "2022-03-27T23:19:06.564Z"
   },
   {
    "duration": 3,
    "start_time": "2022-03-27T23:19:16.176Z"
   },
   {
    "duration": 20,
    "start_time": "2022-03-27T23:19:16.838Z"
   },
   {
    "duration": 3,
    "start_time": "2022-03-27T23:19:28.255Z"
   },
   {
    "duration": 22,
    "start_time": "2022-03-27T23:19:28.745Z"
   },
   {
    "duration": 3,
    "start_time": "2022-03-27T23:22:45.895Z"
   },
   {
    "duration": 21,
    "start_time": "2022-03-27T23:22:47.880Z"
   },
   {
    "duration": 3,
    "start_time": "2022-03-27T23:23:04.945Z"
   },
   {
    "duration": 7,
    "start_time": "2022-03-27T23:23:05.467Z"
   },
   {
    "duration": 4,
    "start_time": "2022-03-27T23:23:18.731Z"
   },
   {
    "duration": 9,
    "start_time": "2022-03-27T23:23:19.388Z"
   },
   {
    "duration": 3,
    "start_time": "2022-03-27T23:24:17.710Z"
   },
   {
    "duration": 19,
    "start_time": "2022-03-27T23:24:18.351Z"
   },
   {
    "duration": 35,
    "start_time": "2022-03-27T23:25:01.494Z"
   },
   {
    "duration": 4,
    "start_time": "2022-03-27T23:25:12.631Z"
   },
   {
    "duration": 5,
    "start_time": "2022-03-27T23:25:16.087Z"
   },
   {
    "duration": 3,
    "start_time": "2022-03-27T23:25:25.538Z"
   },
   {
    "duration": 5,
    "start_time": "2022-03-27T23:25:31.307Z"
   },
   {
    "duration": 7,
    "start_time": "2022-03-27T23:25:47.028Z"
   },
   {
    "duration": 21,
    "start_time": "2022-03-27T23:25:52.941Z"
   },
   {
    "duration": 69,
    "start_time": "2022-03-27T23:26:32.331Z"
   },
   {
    "duration": 3,
    "start_time": "2022-03-27T23:28:38.308Z"
   },
   {
    "duration": 15,
    "start_time": "2022-03-27T23:28:39.304Z"
   },
   {
    "duration": 23,
    "start_time": "2022-03-27T23:29:08.350Z"
   },
   {
    "duration": 1129,
    "start_time": "2022-03-27T23:30:06.071Z"
   },
   {
    "duration": 357,
    "start_time": "2022-03-27T23:30:07.202Z"
   },
   {
    "duration": 20,
    "start_time": "2022-03-27T23:30:07.561Z"
   },
   {
    "duration": 28,
    "start_time": "2022-03-27T23:30:07.583Z"
   },
   {
    "duration": 14,
    "start_time": "2022-03-27T23:30:07.613Z"
   },
   {
    "duration": 14,
    "start_time": "2022-03-27T23:30:07.629Z"
   },
   {
    "duration": 38,
    "start_time": "2022-03-27T23:30:07.645Z"
   },
   {
    "duration": 34,
    "start_time": "2022-03-27T23:30:07.709Z"
   },
   {
    "duration": 34,
    "start_time": "2022-03-27T23:30:07.745Z"
   },
   {
    "duration": 3,
    "start_time": "2022-03-27T23:30:07.781Z"
   },
   {
    "duration": 28,
    "start_time": "2022-03-27T23:30:07.786Z"
   },
   {
    "duration": 6,
    "start_time": "2022-03-27T23:30:07.816Z"
   },
   {
    "duration": 30,
    "start_time": "2022-03-27T23:30:07.824Z"
   },
   {
    "duration": 4,
    "start_time": "2022-03-27T23:30:07.856Z"
   },
   {
    "duration": 55,
    "start_time": "2022-03-27T23:30:07.861Z"
   },
   {
    "duration": 193,
    "start_time": "2022-03-27T23:30:07.918Z"
   },
   {
    "duration": 119,
    "start_time": "2022-03-27T23:30:08.113Z"
   },
   {
    "duration": 121,
    "start_time": "2022-03-27T23:30:08.310Z"
   },
   {
    "duration": 6,
    "start_time": "2022-03-27T23:30:08.510Z"
   },
   {
    "duration": 97,
    "start_time": "2022-03-27T23:30:08.518Z"
   },
   {
    "duration": 5,
    "start_time": "2022-03-27T23:30:08.617Z"
   },
   {
    "duration": 112,
    "start_time": "2022-03-27T23:30:14.018Z"
   },
   {
    "duration": 3,
    "start_time": "2022-03-27T23:30:35.597Z"
   },
   {
    "duration": 21,
    "start_time": "2022-03-27T23:30:36.492Z"
   },
   {
    "duration": 3,
    "start_time": "2022-03-27T23:30:45.628Z"
   },
   {
    "duration": 33,
    "start_time": "2022-03-27T23:30:46.108Z"
   },
   {
    "duration": 3,
    "start_time": "2022-03-27T23:30:58.543Z"
   },
   {
    "duration": 21,
    "start_time": "2022-03-27T23:31:00.624Z"
   },
   {
    "duration": 3,
    "start_time": "2022-03-27T23:31:37.455Z"
   },
   {
    "duration": 8,
    "start_time": "2022-03-27T23:31:38.102Z"
   },
   {
    "duration": 3,
    "start_time": "2022-03-27T23:32:08.290Z"
   },
   {
    "duration": 4,
    "start_time": "2022-03-27T23:32:10.300Z"
   },
   {
    "duration": 22,
    "start_time": "2022-03-27T23:32:10.899Z"
   },
   {
    "duration": 2,
    "start_time": "2022-03-27T23:32:26.679Z"
   },
   {
    "duration": 20,
    "start_time": "2022-03-27T23:32:27.037Z"
   },
   {
    "duration": 21,
    "start_time": "2022-03-27T23:32:31.296Z"
   },
   {
    "duration": 3,
    "start_time": "2022-03-27T23:32:35.166Z"
   },
   {
    "duration": 22,
    "start_time": "2022-03-27T23:32:36.047Z"
   },
   {
    "duration": 8,
    "start_time": "2022-03-27T23:32:39.960Z"
   },
   {
    "duration": 3,
    "start_time": "2022-03-27T23:33:02.957Z"
   },
   {
    "duration": 2,
    "start_time": "2022-03-27T23:33:08.611Z"
   },
   {
    "duration": 8,
    "start_time": "2022-03-27T23:33:09.508Z"
   },
   {
    "duration": 8,
    "start_time": "2022-03-27T23:33:27.913Z"
   },
   {
    "duration": 3,
    "start_time": "2022-03-27T23:33:58.493Z"
   },
   {
    "duration": 8,
    "start_time": "2022-03-27T23:33:59.290Z"
   },
   {
    "duration": 3,
    "start_time": "2022-03-27T23:34:38.697Z"
   },
   {
    "duration": 8,
    "start_time": "2022-03-27T23:34:39.274Z"
   },
   {
    "duration": 4,
    "start_time": "2022-03-27T23:35:04.038Z"
   },
   {
    "duration": 97,
    "start_time": "2022-03-27T23:35:27.611Z"
   },
   {
    "duration": 8,
    "start_time": "2022-03-27T23:35:32.863Z"
   },
   {
    "duration": 5,
    "start_time": "2022-03-27T23:35:38.002Z"
   },
   {
    "duration": 5,
    "start_time": "2022-03-27T23:35:41.534Z"
   },
   {
    "duration": 3,
    "start_time": "2022-03-27T23:35:48.408Z"
   },
   {
    "duration": 5,
    "start_time": "2022-03-27T23:36:03.368Z"
   },
   {
    "duration": 4,
    "start_time": "2022-03-27T23:36:29.213Z"
   },
   {
    "duration": 55,
    "start_time": "2022-03-27T23:36:33.759Z"
   },
   {
    "duration": 5,
    "start_time": "2022-03-27T23:37:02.425Z"
   },
   {
    "duration": 4,
    "start_time": "2022-03-27T23:37:03.099Z"
   },
   {
    "duration": 44,
    "start_time": "2022-03-27T23:37:16.164Z"
   },
   {
    "duration": 30,
    "start_time": "2022-03-27T23:37:18.605Z"
   },
   {
    "duration": 29,
    "start_time": "2022-03-27T23:37:19.707Z"
   },
   {
    "duration": 4,
    "start_time": "2022-03-27T23:37:24.356Z"
   },
   {
    "duration": 4,
    "start_time": "2022-03-27T23:37:24.954Z"
   },
   {
    "duration": 3,
    "start_time": "2022-03-27T23:37:43.506Z"
   },
   {
    "duration": 9,
    "start_time": "2022-03-27T23:37:44.409Z"
   },
   {
    "duration": 4,
    "start_time": "2022-03-27T23:37:47.396Z"
   },
   {
    "duration": 31,
    "start_time": "2022-03-27T23:37:58.979Z"
   },
   {
    "duration": 22,
    "start_time": "2022-03-27T23:38:14.454Z"
   },
   {
    "duration": 5,
    "start_time": "2022-03-27T23:38:37.562Z"
   },
   {
    "duration": 4,
    "start_time": "2022-03-27T23:38:43.658Z"
   },
   {
    "duration": 8,
    "start_time": "2022-03-27T23:38:50.941Z"
   },
   {
    "duration": 6,
    "start_time": "2022-03-27T23:39:13.343Z"
   },
   {
    "duration": 4,
    "start_time": "2022-03-27T23:39:28.386Z"
   },
   {
    "duration": 8,
    "start_time": "2022-03-27T23:40:00.902Z"
   },
   {
    "duration": 3,
    "start_time": "2022-03-27T23:40:43.052Z"
   },
   {
    "duration": 7,
    "start_time": "2022-03-27T23:40:44.190Z"
   },
   {
    "duration": 6,
    "start_time": "2022-03-27T23:41:45.751Z"
   },
   {
    "duration": 7,
    "start_time": "2022-03-27T23:42:33.149Z"
   },
   {
    "duration": 6,
    "start_time": "2022-03-27T23:42:48.633Z"
   },
   {
    "duration": 7,
    "start_time": "2022-03-27T23:43:00.171Z"
   },
   {
    "duration": 6,
    "start_time": "2022-03-27T23:43:07.684Z"
   },
   {
    "duration": 7,
    "start_time": "2022-03-27T23:43:21.157Z"
   },
   {
    "duration": 6,
    "start_time": "2022-03-27T23:45:38.334Z"
   },
   {
    "duration": 7,
    "start_time": "2022-03-27T23:45:39.340Z"
   },
   {
    "duration": 7,
    "start_time": "2022-03-27T23:45:39.627Z"
   },
   {
    "duration": 3,
    "start_time": "2022-03-27T23:46:00.106Z"
   },
   {
    "duration": 3,
    "start_time": "2022-03-27T23:46:49.162Z"
   },
   {
    "duration": 12,
    "start_time": "2022-03-27T23:47:33.737Z"
   },
   {
    "duration": 8,
    "start_time": "2022-03-27T23:47:49.226Z"
   },
   {
    "duration": 7,
    "start_time": "2022-03-27T23:48:03.149Z"
   },
   {
    "duration": 8,
    "start_time": "2022-03-27T23:48:15.565Z"
   },
   {
    "duration": 8,
    "start_time": "2022-03-27T23:48:50.602Z"
   },
   {
    "duration": 7,
    "start_time": "2022-03-28T00:09:31.405Z"
   },
   {
    "duration": 8,
    "start_time": "2022-03-28T00:09:32.123Z"
   },
   {
    "duration": 424,
    "start_time": "2022-03-28T00:49:13.576Z"
   },
   {
    "duration": 515,
    "start_time": "2022-03-28T00:49:44.560Z"
   },
   {
    "duration": 22,
    "start_time": "2022-03-28T00:50:09.747Z"
   },
   {
    "duration": 115,
    "start_time": "2022-03-28T00:50:15.645Z"
   },
   {
    "duration": 510,
    "start_time": "2022-03-28T00:50:23.527Z"
   },
   {
    "duration": 8,
    "start_time": "2022-03-28T00:50:25.519Z"
   },
   {
    "duration": 9,
    "start_time": "2022-03-28T00:51:17.375Z"
   },
   {
    "duration": 63,
    "start_time": "2022-03-28T00:51:26.944Z"
   },
   {
    "duration": 9,
    "start_time": "2022-03-28T00:52:58.126Z"
   },
   {
    "duration": 8,
    "start_time": "2022-03-28T00:53:03.215Z"
   },
   {
    "duration": 4,
    "start_time": "2022-03-28T00:53:06.134Z"
   },
   {
    "duration": 3,
    "start_time": "2022-03-28T00:53:17.690Z"
   },
   {
    "duration": 9,
    "start_time": "2022-03-28T00:53:27.251Z"
   },
   {
    "duration": 6,
    "start_time": "2022-03-28T00:53:31.548Z"
   },
   {
    "duration": 8,
    "start_time": "2022-03-28T00:53:35.166Z"
   },
   {
    "duration": 10,
    "start_time": "2022-03-28T00:54:01.344Z"
   },
   {
    "duration": 8,
    "start_time": "2022-03-28T00:54:03.137Z"
   },
   {
    "duration": 10,
    "start_time": "2022-03-28T00:54:05.838Z"
   },
   {
    "duration": 9,
    "start_time": "2022-03-28T00:54:14.707Z"
   },
   {
    "duration": 6,
    "start_time": "2022-03-28T00:54:32.529Z"
   },
   {
    "duration": 21,
    "start_time": "2022-03-28T00:54:43.632Z"
   },
   {
    "duration": 68,
    "start_time": "2022-03-28T00:54:45.983Z"
   },
   {
    "duration": 7,
    "start_time": "2022-03-28T00:54:51.348Z"
   },
   {
    "duration": 11,
    "start_time": "2022-03-28T00:55:01.793Z"
   },
   {
    "duration": 13,
    "start_time": "2022-03-28T00:55:28.920Z"
   },
   {
    "duration": 40,
    "start_time": "2022-03-28T00:59:10.728Z"
   },
   {
    "duration": 35,
    "start_time": "2022-03-28T00:59:11.364Z"
   },
   {
    "duration": 36,
    "start_time": "2022-03-28T00:59:11.808Z"
   },
   {
    "duration": 1148,
    "start_time": "2022-03-28T01:03:49.059Z"
   },
   {
    "duration": 9,
    "start_time": "2022-03-28T01:04:11.939Z"
   },
   {
    "duration": 9,
    "start_time": "2022-03-28T01:04:16.919Z"
   },
   {
    "duration": 1566,
    "start_time": "2022-03-29T00:54:55.933Z"
   },
   {
    "duration": 321,
    "start_time": "2022-03-29T00:54:57.501Z"
   },
   {
    "duration": 15,
    "start_time": "2022-03-29T00:54:57.823Z"
   },
   {
    "duration": 23,
    "start_time": "2022-03-29T00:54:57.840Z"
   },
   {
    "duration": 12,
    "start_time": "2022-03-29T00:54:57.864Z"
   },
   {
    "duration": 15,
    "start_time": "2022-03-29T00:54:57.877Z"
   },
   {
    "duration": 31,
    "start_time": "2022-03-29T00:54:57.893Z"
   },
   {
    "duration": 45,
    "start_time": "2022-03-29T00:54:57.926Z"
   },
   {
    "duration": 28,
    "start_time": "2022-03-29T00:54:57.973Z"
   },
   {
    "duration": 7,
    "start_time": "2022-03-29T00:54:58.002Z"
   },
   {
    "duration": 19,
    "start_time": "2022-03-29T00:54:58.011Z"
   },
   {
    "duration": 107,
    "start_time": "2022-03-29T00:54:58.031Z"
   },
   {
    "duration": 0,
    "start_time": "2022-03-29T00:54:58.139Z"
   },
   {
    "duration": 0,
    "start_time": "2022-03-29T00:54:58.141Z"
   },
   {
    "duration": 0,
    "start_time": "2022-03-29T00:54:58.142Z"
   },
   {
    "duration": 0,
    "start_time": "2022-03-29T00:54:58.143Z"
   },
   {
    "duration": 0,
    "start_time": "2022-03-29T00:54:58.144Z"
   },
   {
    "duration": 0,
    "start_time": "2022-03-29T00:54:58.145Z"
   },
   {
    "duration": 0,
    "start_time": "2022-03-29T00:54:58.146Z"
   },
   {
    "duration": 0,
    "start_time": "2022-03-29T00:54:58.147Z"
   },
   {
    "duration": 0,
    "start_time": "2022-03-29T00:54:58.148Z"
   },
   {
    "duration": 0,
    "start_time": "2022-03-29T00:54:58.149Z"
   },
   {
    "duration": 0,
    "start_time": "2022-03-29T00:54:58.150Z"
   },
   {
    "duration": 0,
    "start_time": "2022-03-29T00:54:58.150Z"
   },
   {
    "duration": 9,
    "start_time": "2022-03-29T00:55:51.182Z"
   },
   {
    "duration": 5,
    "start_time": "2022-03-29T00:55:51.193Z"
   },
   {
    "duration": 30,
    "start_time": "2022-03-29T00:55:51.200Z"
   },
   {
    "duration": 4,
    "start_time": "2022-03-29T00:55:51.232Z"
   },
   {
    "duration": 127,
    "start_time": "2022-03-29T00:55:51.238Z"
   },
   {
    "duration": 120,
    "start_time": "2022-03-29T00:55:51.367Z"
   },
   {
    "duration": 188,
    "start_time": "2022-03-29T00:55:51.489Z"
   },
   {
    "duration": 193,
    "start_time": "2022-03-29T00:55:51.679Z"
   },
   {
    "duration": 89,
    "start_time": "2022-03-29T00:55:51.874Z"
   },
   {
    "duration": 102,
    "start_time": "2022-03-29T00:55:51.969Z"
   },
   {
    "duration": 3,
    "start_time": "2022-03-29T00:55:52.073Z"
   },
   {
    "duration": 9,
    "start_time": "2022-03-29T00:55:52.078Z"
   },
   {
    "duration": 8,
    "start_time": "2022-03-29T00:55:52.088Z"
   },
   {
    "duration": 7,
    "start_time": "2022-03-29T00:55:52.098Z"
   },
   {
    "duration": 12,
    "start_time": "2022-03-29T00:55:52.107Z"
   },
   {
    "duration": 11,
    "start_time": "2022-03-29T01:00:14.153Z"
   },
   {
    "duration": 3,
    "start_time": "2022-03-29T01:00:16.374Z"
   },
   {
    "duration": 13,
    "start_time": "2022-03-29T01:00:17.012Z"
   },
   {
    "duration": 569,
    "start_time": "2022-03-29T01:00:43.858Z"
   },
   {
    "duration": 628,
    "start_time": "2022-03-29T01:02:37.038Z"
   },
   {
    "duration": 10,
    "start_time": "2022-03-29T01:05:07.234Z"
   },
   {
    "duration": 11,
    "start_time": "2022-03-29T01:08:25.019Z"
   },
   {
    "duration": 15,
    "start_time": "2022-03-29T01:08:37.877Z"
   },
   {
    "duration": 19050,
    "start_time": "2022-03-29T01:10:22.215Z"
   },
   {
    "duration": 1078,
    "start_time": "2022-03-29T01:11:15.586Z"
   },
   {
    "duration": 404,
    "start_time": "2022-03-29T01:11:26.207Z"
   },
   {
    "duration": 10,
    "start_time": "2022-03-29T01:11:33.838Z"
   },
   {
    "duration": 2781,
    "start_time": "2022-03-29T01:11:51.146Z"
   },
   {
    "duration": 2754,
    "start_time": "2022-03-29T01:12:01.150Z"
   },
   {
    "duration": 45,
    "start_time": "2022-03-29T01:13:17.387Z"
   },
   {
    "duration": 1341,
    "start_time": "2022-03-29T01:13:26.519Z"
   },
   {
    "duration": 329,
    "start_time": "2022-03-29T01:13:27.862Z"
   },
   {
    "duration": 14,
    "start_time": "2022-03-29T01:13:28.193Z"
   },
   {
    "duration": 14,
    "start_time": "2022-03-29T01:13:28.209Z"
   },
   {
    "duration": 11,
    "start_time": "2022-03-29T01:13:28.224Z"
   },
   {
    "duration": 27,
    "start_time": "2022-03-29T01:13:28.237Z"
   },
   {
    "duration": 33,
    "start_time": "2022-03-29T01:13:28.266Z"
   },
   {
    "duration": 32,
    "start_time": "2022-03-29T01:13:28.300Z"
   },
   {
    "duration": 53,
    "start_time": "2022-03-29T01:13:28.333Z"
   },
   {
    "duration": 8,
    "start_time": "2022-03-29T01:13:28.388Z"
   },
   {
    "duration": 7,
    "start_time": "2022-03-29T01:13:28.397Z"
   },
   {
    "duration": 36,
    "start_time": "2022-03-29T01:13:28.406Z"
   },
   {
    "duration": 20,
    "start_time": "2022-03-29T01:13:28.443Z"
   },
   {
    "duration": 105,
    "start_time": "2022-03-29T01:13:28.464Z"
   },
   {
    "duration": 114,
    "start_time": "2022-03-29T01:13:28.572Z"
   },
   {
    "duration": 187,
    "start_time": "2022-03-29T01:13:28.689Z"
   },
   {
    "duration": 193,
    "start_time": "2022-03-29T01:13:28.878Z"
   },
   {
    "duration": 91,
    "start_time": "2022-03-29T01:13:29.073Z"
   },
   {
    "duration": 99,
    "start_time": "2022-03-29T01:13:29.166Z"
   },
   {
    "duration": 5,
    "start_time": "2022-03-29T01:13:29.267Z"
   },
   {
    "duration": 10,
    "start_time": "2022-03-29T01:13:29.273Z"
   },
   {
    "duration": 7,
    "start_time": "2022-03-29T01:13:29.284Z"
   },
   {
    "duration": 6,
    "start_time": "2022-03-29T01:13:29.293Z"
   },
   {
    "duration": 10,
    "start_time": "2022-03-29T01:13:29.301Z"
   },
   {
    "duration": 3,
    "start_time": "2022-03-29T01:13:29.312Z"
   },
   {
    "duration": 96,
    "start_time": "2022-03-29T01:13:29.316Z"
   },
   {
    "duration": 10,
    "start_time": "2022-03-29T01:14:23.727Z"
   },
   {
    "duration": 4,
    "start_time": "2022-03-29T01:14:34.870Z"
   },
   {
    "duration": 10,
    "start_time": "2022-03-29T01:14:37.245Z"
   },
   {
    "duration": 12,
    "start_time": "2022-03-29T01:16:20.376Z"
   },
   {
    "duration": 11,
    "start_time": "2022-03-29T01:16:29.786Z"
   },
   {
    "duration": 507,
    "start_time": "2022-03-29T01:17:00.704Z"
   },
   {
    "duration": 511,
    "start_time": "2022-03-29T01:17:14.471Z"
   },
   {
    "duration": 539,
    "start_time": "2022-03-29T01:17:20.052Z"
   },
   {
    "duration": 529,
    "start_time": "2022-03-29T01:20:49.978Z"
   },
   {
    "duration": 405,
    "start_time": "2022-03-29T01:22:40.593Z"
   },
   {
    "duration": 402,
    "start_time": "2022-03-29T01:23:02.837Z"
   },
   {
    "duration": 394,
    "start_time": "2022-03-29T01:23:20.084Z"
   },
   {
    "duration": 535,
    "start_time": "2022-03-29T01:24:06.568Z"
   },
   {
    "duration": 2934,
    "start_time": "2022-03-29T01:24:31.271Z"
   },
   {
    "duration": 15,
    "start_time": "2022-03-29T01:25:06.139Z"
   },
   {
    "duration": 100557,
    "start_time": "2022-03-29T01:25:26.568Z"
   },
   {
    "duration": 1289,
    "start_time": "2022-03-29T01:27:13.320Z"
   },
   {
    "duration": 1257,
    "start_time": "2022-03-29T01:27:26.683Z"
   },
   {
    "duration": 504,
    "start_time": "2022-03-29T01:27:46.820Z"
   },
   {
    "duration": 505,
    "start_time": "2022-03-29T01:27:50.016Z"
   },
   {
    "duration": 404,
    "start_time": "2022-03-29T01:29:37.722Z"
   },
   {
    "duration": 398,
    "start_time": "2022-03-29T01:29:38.846Z"
   },
   {
    "duration": 4,
    "start_time": "2022-03-29T01:30:38.864Z"
   },
   {
    "duration": 8,
    "start_time": "2022-03-29T01:30:52.601Z"
   },
   {
    "duration": 9,
    "start_time": "2022-03-29T01:30:59.177Z"
   },
   {
    "duration": 7,
    "start_time": "2022-03-29T01:31:32.016Z"
   },
   {
    "duration": 9,
    "start_time": "2022-03-29T01:31:51.630Z"
   },
   {
    "duration": 3,
    "start_time": "2022-03-29T01:32:54.040Z"
   },
   {
    "duration": 12,
    "start_time": "2022-03-29T01:33:07.096Z"
   },
   {
    "duration": 3,
    "start_time": "2022-03-29T01:33:25.948Z"
   },
   {
    "duration": 24,
    "start_time": "2022-03-29T01:33:26.683Z"
   },
   {
    "duration": 9,
    "start_time": "2022-03-29T01:36:20.700Z"
   },
   {
    "duration": 4,
    "start_time": "2022-03-29T01:36:29.024Z"
   },
   {
    "duration": 6,
    "start_time": "2022-03-29T01:36:32.733Z"
   },
   {
    "duration": 5,
    "start_time": "2022-03-29T01:36:41.529Z"
   },
   {
    "duration": 1015,
    "start_time": "2022-03-29T01:36:47.139Z"
   },
   {
    "duration": 1445,
    "start_time": "2022-03-29T01:36:58.738Z"
   },
   {
    "duration": 1441,
    "start_time": "2022-03-29T01:38:18.512Z"
   },
   {
    "duration": 1447,
    "start_time": "2022-03-29T01:38:40.845Z"
   },
   {
    "duration": 1465,
    "start_time": "2022-03-29T01:38:56.072Z"
   },
   {
    "duration": 1467,
    "start_time": "2022-03-29T01:39:07.787Z"
   },
   {
    "duration": 1447,
    "start_time": "2022-03-29T01:39:33.382Z"
   },
   {
    "duration": 5,
    "start_time": "2022-03-29T01:41:28.079Z"
   },
   {
    "duration": 1352,
    "start_time": "2022-03-29T01:41:52.513Z"
   },
   {
    "duration": 1309,
    "start_time": "2022-03-29T01:42:31.327Z"
   },
   {
    "duration": 4,
    "start_time": "2022-03-29T01:42:40.332Z"
   },
   {
    "duration": 4,
    "start_time": "2022-03-29T01:49:40.670Z"
   },
   {
    "duration": 1219,
    "start_time": "2022-03-29T01:49:42.791Z"
   },
   {
    "duration": 1248,
    "start_time": "2022-03-29T01:50:19.196Z"
   },
   {
    "duration": 1243,
    "start_time": "2022-03-29T01:50:31.691Z"
   },
   {
    "duration": 5,
    "start_time": "2022-03-29T01:55:58.383Z"
   },
   {
    "duration": 5,
    "start_time": "2022-03-29T01:56:01.987Z"
   },
   {
    "duration": 18,
    "start_time": "2022-03-29T01:56:02.425Z"
   },
   {
    "duration": 5,
    "start_time": "2022-03-29T01:56:08.931Z"
   },
   {
    "duration": 1260,
    "start_time": "2022-03-29T01:56:09.916Z"
   },
   {
    "duration": 9,
    "start_time": "2022-03-29T01:56:30.298Z"
   },
   {
    "duration": 9,
    "start_time": "2022-03-29T01:56:38.464Z"
   },
   {
    "duration": 4,
    "start_time": "2022-03-29T01:56:43.050Z"
   },
   {
    "duration": 4,
    "start_time": "2022-03-29T01:56:48.929Z"
   },
   {
    "duration": 1003,
    "start_time": "2022-03-29T01:57:51.957Z"
   },
   {
    "duration": 1019,
    "start_time": "2022-03-29T01:57:54.531Z"
   },
   {
    "duration": 9,
    "start_time": "2022-03-29T01:59:22.890Z"
   },
   {
    "duration": 4,
    "start_time": "2022-03-29T02:00:00.122Z"
   },
   {
    "duration": 4,
    "start_time": "2022-03-29T02:00:14.388Z"
   },
   {
    "duration": 176,
    "start_time": "2022-03-29T02:01:00.354Z"
   },
   {
    "duration": 10,
    "start_time": "2022-03-29T02:01:05.916Z"
   },
   {
    "duration": 7,
    "start_time": "2022-03-29T02:01:15.542Z"
   },
   {
    "duration": 5,
    "start_time": "2022-03-29T02:01:21.575Z"
   },
   {
    "duration": 6,
    "start_time": "2022-03-29T02:01:27.686Z"
   },
   {
    "duration": 172,
    "start_time": "2022-03-29T02:01:33.984Z"
   },
   {
    "duration": 135,
    "start_time": "2022-03-29T02:01:42.321Z"
   },
   {
    "duration": 6,
    "start_time": "2022-03-29T02:01:58.287Z"
   },
   {
    "duration": 1023,
    "start_time": "2022-03-29T02:34:21.025Z"
   },
   {
    "duration": 1035,
    "start_time": "2022-03-29T02:34:34.263Z"
   },
   {
    "duration": 1282,
    "start_time": "2022-03-29T02:35:00.132Z"
   },
   {
    "duration": 6,
    "start_time": "2022-03-29T02:35:56.811Z"
   },
   {
    "duration": 6,
    "start_time": "2022-03-29T02:35:57.307Z"
   },
   {
    "duration": 1156,
    "start_time": "2022-03-29T02:38:05.293Z"
   },
   {
    "duration": 1014,
    "start_time": "2022-03-29T02:38:56.975Z"
   },
   {
    "duration": 1022,
    "start_time": "2022-03-29T02:38:58.599Z"
   },
   {
    "duration": 1033,
    "start_time": "2022-03-29T02:40:27.622Z"
   },
   {
    "duration": 1045,
    "start_time": "2022-03-29T02:40:29.296Z"
   },
   {
    "duration": 1029,
    "start_time": "2022-03-29T02:41:03.052Z"
   },
   {
    "duration": 1034,
    "start_time": "2022-03-29T02:41:09.191Z"
   },
   {
    "duration": 531,
    "start_time": "2022-03-29T02:47:13.862Z"
   },
   {
    "duration": 519,
    "start_time": "2022-03-29T02:47:15.128Z"
   },
   {
    "duration": 12,
    "start_time": "2022-03-29T02:48:10.889Z"
   },
   {
    "duration": 1024,
    "start_time": "2022-03-29T02:48:22.243Z"
   },
   {
    "duration": 1037,
    "start_time": "2022-03-29T02:48:24.411Z"
   },
   {
    "duration": 4,
    "start_time": "2022-03-29T02:52:44.356Z"
   },
   {
    "duration": 125,
    "start_time": "2022-03-29T02:52:58.699Z"
   },
   {
    "duration": 118,
    "start_time": "2022-03-29T02:53:03.552Z"
   },
   {
    "duration": 121,
    "start_time": "2022-03-29T02:53:05.700Z"
   },
   {
    "duration": 1054,
    "start_time": "2022-03-29T02:53:08.056Z"
   },
   {
    "duration": 1024,
    "start_time": "2022-03-29T02:53:17.180Z"
   },
   {
    "duration": 8,
    "start_time": "2022-03-29T03:00:41.028Z"
   },
   {
    "duration": 8,
    "start_time": "2022-03-29T03:00:53.299Z"
   },
   {
    "duration": 150,
    "start_time": "2022-03-29T03:01:02.277Z"
   },
   {
    "duration": 9,
    "start_time": "2022-03-29T03:01:06.373Z"
   },
   {
    "duration": 1605,
    "start_time": "2022-03-30T00:24:38.420Z"
   },
   {
    "duration": 371,
    "start_time": "2022-03-30T00:24:40.028Z"
   },
   {
    "duration": 16,
    "start_time": "2022-03-30T00:24:40.401Z"
   },
   {
    "duration": 23,
    "start_time": "2022-03-30T00:24:40.419Z"
   },
   {
    "duration": 13,
    "start_time": "2022-03-30T00:24:40.445Z"
   },
   {
    "duration": 15,
    "start_time": "2022-03-30T00:24:40.460Z"
   },
   {
    "duration": 62,
    "start_time": "2022-03-30T00:24:40.477Z"
   },
   {
    "duration": 36,
    "start_time": "2022-03-30T00:24:40.541Z"
   },
   {
    "duration": 34,
    "start_time": "2022-03-30T00:24:40.578Z"
   },
   {
    "duration": 30,
    "start_time": "2022-03-30T00:24:40.613Z"
   },
   {
    "duration": 6,
    "start_time": "2022-03-30T00:24:40.645Z"
   },
   {
    "duration": 36,
    "start_time": "2022-03-30T00:24:40.653Z"
   },
   {
    "duration": 5,
    "start_time": "2022-03-30T00:24:40.691Z"
   },
   {
    "duration": 140,
    "start_time": "2022-03-30T00:24:40.699Z"
   },
   {
    "duration": 122,
    "start_time": "2022-03-30T00:24:40.841Z"
   },
   {
    "duration": 120,
    "start_time": "2022-03-30T00:24:41.039Z"
   },
   {
    "duration": 194,
    "start_time": "2022-03-30T00:24:41.161Z"
   },
   {
    "duration": 81,
    "start_time": "2022-03-30T00:24:41.357Z"
   },
   {
    "duration": 100,
    "start_time": "2022-03-30T00:24:41.441Z"
   },
   {
    "duration": 4,
    "start_time": "2022-03-30T00:24:41.543Z"
   },
   {
    "duration": 128,
    "start_time": "2022-03-30T00:24:41.549Z"
   },
   {
    "duration": 0,
    "start_time": "2022-03-30T00:24:41.679Z"
   },
   {
    "duration": 0,
    "start_time": "2022-03-30T00:24:41.680Z"
   },
   {
    "duration": 0,
    "start_time": "2022-03-30T00:24:41.681Z"
   },
   {
    "duration": 1,
    "start_time": "2022-03-30T00:24:41.681Z"
   },
   {
    "duration": 0,
    "start_time": "2022-03-30T00:24:41.682Z"
   },
   {
    "duration": 0,
    "start_time": "2022-03-30T00:24:41.683Z"
   },
   {
    "duration": 1,
    "start_time": "2022-03-30T00:24:41.684Z"
   },
   {
    "duration": 0,
    "start_time": "2022-03-30T00:24:41.686Z"
   },
   {
    "duration": 0,
    "start_time": "2022-03-30T00:24:41.687Z"
   },
   {
    "duration": 0,
    "start_time": "2022-03-30T00:24:41.688Z"
   },
   {
    "duration": 11,
    "start_time": "2022-03-30T00:25:19.740Z"
   },
   {
    "duration": 3,
    "start_time": "2022-03-30T00:25:21.934Z"
   },
   {
    "duration": 17,
    "start_time": "2022-03-30T00:25:22.692Z"
   },
   {
    "duration": 3,
    "start_time": "2022-03-30T00:25:29.406Z"
   },
   {
    "duration": 25,
    "start_time": "2022-03-30T00:25:31.104Z"
   },
   {
    "duration": 4,
    "start_time": "2022-03-30T00:26:18.823Z"
   },
   {
    "duration": 3,
    "start_time": "2022-03-30T00:28:35.205Z"
   },
   {
    "duration": 10,
    "start_time": "2022-03-30T00:28:35.819Z"
   },
   {
    "duration": 8,
    "start_time": "2022-03-30T00:28:40.495Z"
   },
   {
    "duration": 9,
    "start_time": "2022-03-30T00:30:26.319Z"
   },
   {
    "duration": 10,
    "start_time": "2022-03-30T00:30:47.209Z"
   },
   {
    "duration": 466,
    "start_time": "2022-03-30T00:31:13.325Z"
   },
   {
    "duration": 10,
    "start_time": "2022-03-30T00:31:26.984Z"
   },
   {
    "duration": 44691,
    "start_time": "2022-03-30T00:32:26.908Z"
   },
   {
    "duration": 4,
    "start_time": "2022-03-30T00:45:08.505Z"
   },
   {
    "duration": 13,
    "start_time": "2022-03-30T00:45:37.622Z"
   },
   {
    "duration": 4,
    "start_time": "2022-03-30T00:57:49.929Z"
   },
   {
    "duration": 14,
    "start_time": "2022-03-30T00:58:11.910Z"
   },
   {
    "duration": 5,
    "start_time": "2022-03-30T01:00:43.182Z"
   },
   {
    "duration": 15,
    "start_time": "2022-03-30T01:00:46.712Z"
   },
   {
    "duration": 4,
    "start_time": "2022-03-30T01:01:53.318Z"
   },
   {
    "duration": 14,
    "start_time": "2022-03-30T01:02:05.462Z"
   },
   {
    "duration": 5,
    "start_time": "2022-03-30T01:02:09.801Z"
   },
   {
    "duration": 21,
    "start_time": "2022-03-30T01:02:10.582Z"
   },
   {
    "duration": 3,
    "start_time": "2022-03-30T01:04:44.945Z"
   },
   {
    "duration": 4,
    "start_time": "2022-03-30T01:04:45.768Z"
   },
   {
    "duration": 3,
    "start_time": "2022-03-30T01:05:00.658Z"
   },
   {
    "duration": 4,
    "start_time": "2022-03-30T01:05:01.228Z"
   },
   {
    "duration": 15,
    "start_time": "2022-03-30T01:05:03.109Z"
   },
   {
    "duration": 4,
    "start_time": "2022-03-30T01:05:12.420Z"
   },
   {
    "duration": 4,
    "start_time": "2022-03-30T01:05:13.382Z"
   },
   {
    "duration": 16,
    "start_time": "2022-03-30T01:05:15.653Z"
   },
   {
    "duration": 4,
    "start_time": "2022-03-30T01:05:33.555Z"
   },
   {
    "duration": 1221,
    "start_time": "2022-03-30T01:05:34.488Z"
   },
   {
    "duration": 4,
    "start_time": "2022-03-30T01:07:28.231Z"
   },
   {
    "duration": 1220,
    "start_time": "2022-03-30T01:07:30.164Z"
   },
   {
    "duration": 5,
    "start_time": "2022-03-30T02:37:29.156Z"
   },
   {
    "duration": 5,
    "start_time": "2022-03-30T02:38:18.465Z"
   },
   {
    "duration": 1233,
    "start_time": "2022-03-30T02:38:19.723Z"
   },
   {
    "duration": 5,
    "start_time": "2022-03-30T02:38:55.041Z"
   },
   {
    "duration": 1190,
    "start_time": "2022-03-30T02:38:55.473Z"
   },
   {
    "duration": 4,
    "start_time": "2022-03-30T02:39:11.740Z"
   },
   {
    "duration": 1242,
    "start_time": "2022-03-30T02:39:12.773Z"
   },
   {
    "duration": 6,
    "start_time": "2022-03-30T02:39:36.398Z"
   },
   {
    "duration": 1199,
    "start_time": "2022-03-30T02:39:37.005Z"
   },
   {
    "duration": 5,
    "start_time": "2022-03-30T02:40:17.078Z"
   },
   {
    "duration": 1235,
    "start_time": "2022-03-30T02:40:17.877Z"
   },
   {
    "duration": 5,
    "start_time": "2022-03-30T02:40:59.582Z"
   },
   {
    "duration": 1231,
    "start_time": "2022-03-30T02:41:00.116Z"
   },
   {
    "duration": 5,
    "start_time": "2022-03-30T02:41:40.453Z"
   },
   {
    "duration": 1241,
    "start_time": "2022-03-30T02:41:41.109Z"
   },
   {
    "duration": 5,
    "start_time": "2022-03-30T02:41:58.457Z"
   },
   {
    "duration": 1211,
    "start_time": "2022-03-30T02:41:59.042Z"
   },
   {
    "duration": 1209,
    "start_time": "2022-03-30T02:42:58.176Z"
   },
   {
    "duration": 1188,
    "start_time": "2022-03-30T02:43:10.718Z"
   },
   {
    "duration": 3,
    "start_time": "2022-03-30T02:46:50.261Z"
   },
   {
    "duration": 8,
    "start_time": "2022-03-30T02:46:51.681Z"
   },
   {
    "duration": 1219,
    "start_time": "2022-03-30T02:46:53.129Z"
   },
   {
    "duration": 1223,
    "start_time": "2022-03-30T02:46:57.154Z"
   },
   {
    "duration": 1258,
    "start_time": "2022-03-30T02:47:00.203Z"
   },
   {
    "duration": 5,
    "start_time": "2022-03-30T02:47:57.639Z"
   },
   {
    "duration": 1213,
    "start_time": "2022-03-30T02:47:58.086Z"
   },
   {
    "duration": 6,
    "start_time": "2022-03-30T02:48:51.312Z"
   },
   {
    "duration": 1225,
    "start_time": "2022-03-30T02:48:51.703Z"
   },
   {
    "duration": 1200,
    "start_time": "2022-03-30T02:48:53.559Z"
   },
   {
    "duration": 1212,
    "start_time": "2022-03-30T02:48:55.318Z"
   },
   {
    "duration": 5,
    "start_time": "2022-03-30T02:52:18.185Z"
   },
   {
    "duration": 4,
    "start_time": "2022-03-30T02:52:26.323Z"
   },
   {
    "duration": 4,
    "start_time": "2022-03-30T02:53:28.085Z"
   },
   {
    "duration": 4,
    "start_time": "2022-03-30T02:54:41.785Z"
   },
   {
    "duration": 4,
    "start_time": "2022-03-30T02:54:58.388Z"
   },
   {
    "duration": 1230,
    "start_time": "2022-03-30T02:54:59.291Z"
   },
   {
    "duration": 1240,
    "start_time": "2022-03-30T02:55:01.128Z"
   },
   {
    "duration": 1305,
    "start_time": "2022-03-30T02:55:03.508Z"
   },
   {
    "duration": 4,
    "start_time": "2022-03-30T03:04:10.374Z"
   },
   {
    "duration": 1171,
    "start_time": "2022-03-30T03:04:10.691Z"
   },
   {
    "duration": 1173,
    "start_time": "2022-03-30T03:04:12.550Z"
   },
   {
    "duration": 1187,
    "start_time": "2022-03-30T03:04:20.951Z"
   },
   {
    "duration": 1250,
    "start_time": "2022-03-30T03:04:34.227Z"
   },
   {
    "duration": 1246,
    "start_time": "2022-03-30T03:04:38.636Z"
   },
   {
    "duration": 1261,
    "start_time": "2022-03-30T03:04:42.883Z"
   },
   {
    "duration": 5,
    "start_time": "2022-03-30T03:07:57.747Z"
   },
   {
    "duration": 1644,
    "start_time": "2022-03-30T03:08:10.535Z"
   },
   {
    "duration": 5,
    "start_time": "2022-03-30T03:08:52.222Z"
   },
   {
    "duration": 1630,
    "start_time": "2022-03-30T03:08:53.942Z"
   },
   {
    "duration": 4,
    "start_time": "2022-03-30T03:08:58.127Z"
   },
   {
    "duration": 1665,
    "start_time": "2022-03-30T03:08:59.308Z"
   },
   {
    "duration": 1684,
    "start_time": "2022-03-30T03:09:09.790Z"
   },
   {
    "duration": 1694,
    "start_time": "2022-03-30T03:09:21.866Z"
   },
   {
    "duration": 1691,
    "start_time": "2022-03-30T03:09:24.602Z"
   },
   {
    "duration": 5,
    "start_time": "2022-03-30T03:11:31.198Z"
   },
   {
    "duration": 1708,
    "start_time": "2022-03-30T03:11:31.400Z"
   },
   {
    "duration": 5,
    "start_time": "2022-03-30T03:11:36.558Z"
   },
   {
    "duration": 1677,
    "start_time": "2022-03-30T03:11:37.090Z"
   },
   {
    "duration": 1500,
    "start_time": "2022-04-01T02:00:31.924Z"
   },
   {
    "duration": 372,
    "start_time": "2022-04-01T02:00:33.426Z"
   },
   {
    "duration": 18,
    "start_time": "2022-04-01T02:00:33.800Z"
   },
   {
    "duration": 16,
    "start_time": "2022-04-01T02:00:33.819Z"
   },
   {
    "duration": 15,
    "start_time": "2022-04-01T02:00:33.838Z"
   },
   {
    "duration": 15,
    "start_time": "2022-04-01T02:00:33.855Z"
   },
   {
    "duration": 70,
    "start_time": "2022-04-01T02:00:33.872Z"
   },
   {
    "duration": 37,
    "start_time": "2022-04-01T02:00:33.944Z"
   },
   {
    "duration": 51,
    "start_time": "2022-04-01T02:00:33.983Z"
   },
   {
    "duration": 8,
    "start_time": "2022-04-01T02:00:34.036Z"
   },
   {
    "duration": 6,
    "start_time": "2022-04-01T02:00:34.046Z"
   },
   {
    "duration": 35,
    "start_time": "2022-04-01T02:00:34.053Z"
   },
   {
    "duration": 5,
    "start_time": "2022-04-01T02:00:34.108Z"
   },
   {
    "duration": 195,
    "start_time": "2022-04-01T02:00:34.115Z"
   },
   {
    "duration": 113,
    "start_time": "2022-04-01T02:00:34.312Z"
   },
   {
    "duration": 201,
    "start_time": "2022-04-01T02:00:34.428Z"
   },
   {
    "duration": 120,
    "start_time": "2022-04-01T02:00:34.709Z"
   },
   {
    "duration": 5,
    "start_time": "2022-04-01T02:00:34.910Z"
   },
   {
    "duration": 99,
    "start_time": "2022-04-01T02:00:34.917Z"
   },
   {
    "duration": 8,
    "start_time": "2022-04-01T02:00:35.018Z"
   },
   {
    "duration": 11,
    "start_time": "2022-04-01T02:00:35.028Z"
   },
   {
    "duration": 123,
    "start_time": "2022-04-01T02:00:35.040Z"
   },
   {
    "duration": 0,
    "start_time": "2022-04-01T02:00:35.164Z"
   },
   {
    "duration": 0,
    "start_time": "2022-04-01T02:00:35.165Z"
   },
   {
    "duration": 3,
    "start_time": "2022-04-01T02:00:55.224Z"
   },
   {
    "duration": 1338,
    "start_time": "2022-04-01T02:00:58.673Z"
   },
   {
    "duration": 5,
    "start_time": "2022-04-01T02:01:09.157Z"
   },
   {
    "duration": 1347,
    "start_time": "2022-04-01T02:01:10.676Z"
   },
   {
    "duration": 1333,
    "start_time": "2022-04-01T02:01:14.436Z"
   },
   {
    "duration": 1342,
    "start_time": "2022-04-01T02:01:16.772Z"
   },
   {
    "duration": 1321,
    "start_time": "2022-04-01T02:05:12.628Z"
   },
   {
    "duration": 370,
    "start_time": "2022-04-01T02:05:13.951Z"
   },
   {
    "duration": 17,
    "start_time": "2022-04-01T02:05:14.323Z"
   },
   {
    "duration": 15,
    "start_time": "2022-04-01T02:05:14.342Z"
   },
   {
    "duration": 15,
    "start_time": "2022-04-01T02:05:14.358Z"
   },
   {
    "duration": 41,
    "start_time": "2022-04-01T02:05:14.375Z"
   },
   {
    "duration": 41,
    "start_time": "2022-04-01T02:05:14.418Z"
   },
   {
    "duration": 60,
    "start_time": "2022-04-01T02:05:14.460Z"
   },
   {
    "duration": 36,
    "start_time": "2022-04-01T02:05:14.522Z"
   },
   {
    "duration": 7,
    "start_time": "2022-04-01T02:05:14.561Z"
   },
   {
    "duration": 6,
    "start_time": "2022-04-01T02:05:14.570Z"
   },
   {
    "duration": 56,
    "start_time": "2022-04-01T02:05:14.578Z"
   },
   {
    "duration": 4,
    "start_time": "2022-04-01T02:05:14.635Z"
   },
   {
    "duration": 73,
    "start_time": "2022-04-01T02:05:14.641Z"
   },
   {
    "duration": 120,
    "start_time": "2022-04-01T02:05:14.716Z"
   },
   {
    "duration": 121,
    "start_time": "2022-04-01T02:05:14.911Z"
   },
   {
    "duration": 121,
    "start_time": "2022-04-01T02:05:15.111Z"
   },
   {
    "duration": 6,
    "start_time": "2022-04-01T02:05:15.309Z"
   },
   {
    "duration": 5,
    "start_time": "2022-04-01T02:05:15.408Z"
   },
   {
    "duration": 5,
    "start_time": "2022-04-01T02:05:15.415Z"
   },
   {
    "duration": 7,
    "start_time": "2022-04-01T02:05:15.422Z"
   },
   {
    "duration": 1343,
    "start_time": "2022-04-01T02:05:15.431Z"
   },
   {
    "duration": 1304,
    "start_time": "2022-04-01T02:05:16.776Z"
   },
   {
    "duration": 1310,
    "start_time": "2022-04-01T02:05:18.082Z"
   },
   {
    "duration": 6,
    "start_time": "2022-04-01T02:06:32.032Z"
   },
   {
    "duration": 5,
    "start_time": "2022-04-01T02:06:39.956Z"
   },
   {
    "duration": 1308,
    "start_time": "2022-04-01T02:06:42.773Z"
   },
   {
    "duration": 1297,
    "start_time": "2022-04-01T02:06:46.201Z"
   },
   {
    "duration": 1278,
    "start_time": "2022-04-01T02:06:49.284Z"
   },
   {
    "duration": 6,
    "start_time": "2022-04-01T02:18:24.733Z"
   },
   {
    "duration": 1294,
    "start_time": "2022-04-01T02:18:26.826Z"
   },
   {
    "duration": 6,
    "start_time": "2022-04-01T02:18:38.792Z"
   },
   {
    "duration": 1261,
    "start_time": "2022-04-01T02:18:40.781Z"
   },
   {
    "duration": 1309,
    "start_time": "2022-04-01T02:18:50.839Z"
   },
   {
    "duration": 1311,
    "start_time": "2022-04-01T02:18:54.063Z"
   }
  ],
  "kernelspec": {
   "display_name": "Python 3 (ipykernel)",
   "language": "python",
   "name": "python3"
  },
  "language_info": {
   "codemirror_mode": {
    "name": "ipython",
    "version": 3
   },
   "file_extension": ".py",
   "mimetype": "text/x-python",
   "name": "python",
   "nbconvert_exporter": "python",
   "pygments_lexer": "ipython3",
   "version": "3.9.5"
  },
  "toc": {
   "base_numbering": 1,
   "nav_menu": {},
   "number_sections": true,
   "sideBar": true,
   "skip_h1_title": true,
   "title_cell": "Table of Contents",
   "title_sidebar": "Contents",
   "toc_cell": false,
   "toc_position": {},
   "toc_section_display": true,
   "toc_window_display": false
  }
 },
 "nbformat": 4,
 "nbformat_minor": 2
}
